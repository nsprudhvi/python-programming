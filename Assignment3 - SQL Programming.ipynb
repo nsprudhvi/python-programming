{
 "cells": [
  {
   "attachments": {},
   "cell_type": "markdown",
   "id": "f4beffc1",
   "metadata": {},
   "source": [
    "## 3. SQL Programming\n",
    "\n",
    "In this section you are going to use a small database for a digital media store. You can access the database in two different ways, it is completely up to you which one you choose:\n",
    "\n",
    "1. You can use the `isqlite3` extension and execute SQL in the notebook.\n",
    "2. You can use any software that works with SQLite3 databases (the SQLite3 database is stored in `assignment3.db`), but only to execute SQL written by you. You are **NOT** allowed to use any wizards or other graphical user interface to prepare SQL statements.\n",
    "\n",
    "If you choose the second option, **remember to copy and paste your solutions in the corresponding answer cells in this notebook!**\n",
    "\n",
    "The database schema is shown below and the CREATE TABLE statements can be found in Appendix A.\n",
    "\n",
    "![](database.svg)"
   ]
  },
  {
   "cell_type": "code",
   "execution_count": 3,
   "id": "e92bff17",
   "metadata": {},
   "outputs": [
    {
     "ename": "ModuleNotFoundError",
     "evalue": "No module named 'isqlite3'",
     "output_type": "error",
     "traceback": [
      "\u001b[0;31m---------------------------------------------------------------------------\u001b[0m",
      "\u001b[0;31mModuleNotFoundError\u001b[0m                       Traceback (most recent call last)",
      "\u001b[1;32m/Users/sai-personal/Documents/GIT/python-programming/Assignment3 - SQL Programming.ipynb Cell 2\u001b[0m in \u001b[0;36m<cell line: 1>\u001b[0;34m()\u001b[0m\n\u001b[0;32m----> <a href='vscode-notebook-cell:/Users/sai-personal/Documents/GIT/python-programming/Assignment3%20-%20SQL%20Programming.ipynb#W1sZmlsZQ%3D%3D?line=0'>1</a>\u001b[0m get_ipython()\u001b[39m.\u001b[39;49mrun_line_magic(\u001b[39m'\u001b[39;49m\u001b[39mload_ext\u001b[39;49m\u001b[39m'\u001b[39;49m, \u001b[39m'\u001b[39;49m\u001b[39misqlite3\u001b[39;49m\u001b[39m'\u001b[39;49m)\n\u001b[1;32m      <a href='vscode-notebook-cell:/Users/sai-personal/Documents/GIT/python-programming/Assignment3%20-%20SQL%20Programming.ipynb#W1sZmlsZQ%3D%3D?line=1'>2</a>\u001b[0m get_ipython()\u001b[39m.\u001b[39mrun_line_magic(\u001b[39m'\u001b[39m\u001b[39msql_open\u001b[39m\u001b[39m'\u001b[39m, \u001b[39m'\u001b[39m\u001b[39massignment3.db\u001b[39m\u001b[39m'\u001b[39m)\n",
      "File \u001b[0;32m/opt/anaconda3/lib/python3.9/site-packages/IPython/core/interactiveshell.py:2294\u001b[0m, in \u001b[0;36mInteractiveShell.run_line_magic\u001b[0;34m(self, magic_name, line, _stack_depth)\u001b[0m\n\u001b[1;32m   2292\u001b[0m     kwargs[\u001b[39m'\u001b[39m\u001b[39mlocal_ns\u001b[39m\u001b[39m'\u001b[39m] \u001b[39m=\u001b[39m \u001b[39mself\u001b[39m\u001b[39m.\u001b[39mget_local_scope(stack_depth)\n\u001b[1;32m   2293\u001b[0m \u001b[39mwith\u001b[39;00m \u001b[39mself\u001b[39m\u001b[39m.\u001b[39mbuiltin_trap:\n\u001b[0;32m-> 2294\u001b[0m     result \u001b[39m=\u001b[39m fn(\u001b[39m*\u001b[39;49margs, \u001b[39m*\u001b[39;49m\u001b[39m*\u001b[39;49mkwargs)\n\u001b[1;32m   2295\u001b[0m \u001b[39mreturn\u001b[39;00m result\n",
      "File \u001b[0;32m/opt/anaconda3/lib/python3.9/site-packages/IPython/core/magics/extension.py:33\u001b[0m, in \u001b[0;36mExtensionMagics.load_ext\u001b[0;34m(self, module_str)\u001b[0m\n\u001b[1;32m     31\u001b[0m \u001b[39mif\u001b[39;00m \u001b[39mnot\u001b[39;00m module_str:\n\u001b[1;32m     32\u001b[0m     \u001b[39mraise\u001b[39;00m UsageError(\u001b[39m'\u001b[39m\u001b[39mMissing module name.\u001b[39m\u001b[39m'\u001b[39m)\n\u001b[0;32m---> 33\u001b[0m res \u001b[39m=\u001b[39m \u001b[39mself\u001b[39;49m\u001b[39m.\u001b[39;49mshell\u001b[39m.\u001b[39;49mextension_manager\u001b[39m.\u001b[39;49mload_extension(module_str)\n\u001b[1;32m     35\u001b[0m \u001b[39mif\u001b[39;00m res \u001b[39m==\u001b[39m \u001b[39m'\u001b[39m\u001b[39malready loaded\u001b[39m\u001b[39m'\u001b[39m:\n\u001b[1;32m     36\u001b[0m     \u001b[39mprint\u001b[39m(\u001b[39m\"\u001b[39m\u001b[39mThe \u001b[39m\u001b[39m%s\u001b[39;00m\u001b[39m extension is already loaded. To reload it, use:\u001b[39m\u001b[39m\"\u001b[39m \u001b[39m%\u001b[39m module_str)\n",
      "File \u001b[0;32m/opt/anaconda3/lib/python3.9/site-packages/IPython/core/extensions.py:76\u001b[0m, in \u001b[0;36mExtensionManager.load_extension\u001b[0;34m(self, module_str)\u001b[0m\n\u001b[1;32m     69\u001b[0m \u001b[39m\"\"\"Load an IPython extension by its module name.\u001b[39;00m\n\u001b[1;32m     70\u001b[0m \n\u001b[1;32m     71\u001b[0m \u001b[39mReturns the string \"already loaded\" if the extension is already loaded,\u001b[39;00m\n\u001b[1;32m     72\u001b[0m \u001b[39m\"no load function\" if the module doesn't have a load_ipython_extension\u001b[39;00m\n\u001b[1;32m     73\u001b[0m \u001b[39mfunction, or None if it succeeded.\u001b[39;00m\n\u001b[1;32m     74\u001b[0m \u001b[39m\"\"\"\u001b[39;00m\n\u001b[1;32m     75\u001b[0m \u001b[39mtry\u001b[39;00m:\n\u001b[0;32m---> 76\u001b[0m     \u001b[39mreturn\u001b[39;00m \u001b[39mself\u001b[39;49m\u001b[39m.\u001b[39;49m_load_extension(module_str)\n\u001b[1;32m     77\u001b[0m \u001b[39mexcept\u001b[39;00m \u001b[39mModuleNotFoundError\u001b[39;00m:\n\u001b[1;32m     78\u001b[0m     \u001b[39mif\u001b[39;00m module_str \u001b[39min\u001b[39;00m BUILTINS_EXTS:\n",
      "File \u001b[0;32m/opt/anaconda3/lib/python3.9/site-packages/IPython/core/extensions.py:92\u001b[0m, in \u001b[0;36mExtensionManager._load_extension\u001b[0;34m(self, module_str)\u001b[0m\n\u001b[1;32m     90\u001b[0m \u001b[39mif\u001b[39;00m module_str \u001b[39mnot\u001b[39;00m \u001b[39min\u001b[39;00m sys\u001b[39m.\u001b[39mmodules:\n\u001b[1;32m     91\u001b[0m     \u001b[39mwith\u001b[39;00m prepended_to_syspath(\u001b[39mself\u001b[39m\u001b[39m.\u001b[39mipython_extension_dir):\n\u001b[0;32m---> 92\u001b[0m         mod \u001b[39m=\u001b[39m import_module(module_str)\n\u001b[1;32m     93\u001b[0m         \u001b[39mif\u001b[39;00m mod\u001b[39m.\u001b[39m\u001b[39m__file__\u001b[39m\u001b[39m.\u001b[39mstartswith(\u001b[39mself\u001b[39m\u001b[39m.\u001b[39mipython_extension_dir):\n\u001b[1;32m     94\u001b[0m             \u001b[39mprint\u001b[39m((\u001b[39m\"\u001b[39m\u001b[39mLoading extensions from \u001b[39m\u001b[39m{dir}\u001b[39;00m\u001b[39m is deprecated. \u001b[39m\u001b[39m\"\u001b[39m\n\u001b[1;32m     95\u001b[0m                    \u001b[39m\"\u001b[39m\u001b[39mWe recommend managing extensions like any \u001b[39m\u001b[39m\"\u001b[39m\n\u001b[1;32m     96\u001b[0m                    \u001b[39m\"\u001b[39m\u001b[39mother Python packages, in site-packages.\u001b[39m\u001b[39m\"\u001b[39m)\u001b[39m.\u001b[39mformat(\n\u001b[1;32m     97\u001b[0m                   \u001b[39mdir\u001b[39m\u001b[39m=\u001b[39mcompress_user(\u001b[39mself\u001b[39m\u001b[39m.\u001b[39mipython_extension_dir)))\n",
      "File \u001b[0;32m/opt/anaconda3/lib/python3.9/importlib/__init__.py:127\u001b[0m, in \u001b[0;36mimport_module\u001b[0;34m(name, package)\u001b[0m\n\u001b[1;32m    125\u001b[0m             \u001b[39mbreak\u001b[39;00m\n\u001b[1;32m    126\u001b[0m         level \u001b[39m+\u001b[39m\u001b[39m=\u001b[39m \u001b[39m1\u001b[39m\n\u001b[0;32m--> 127\u001b[0m \u001b[39mreturn\u001b[39;00m _bootstrap\u001b[39m.\u001b[39;49m_gcd_import(name[level:], package, level)\n",
      "File \u001b[0;32m<frozen importlib._bootstrap>:1030\u001b[0m, in \u001b[0;36m_gcd_import\u001b[0;34m(name, package, level)\u001b[0m\n",
      "File \u001b[0;32m<frozen importlib._bootstrap>:1007\u001b[0m, in \u001b[0;36m_find_and_load\u001b[0;34m(name, import_)\u001b[0m\n",
      "File \u001b[0;32m<frozen importlib._bootstrap>:984\u001b[0m, in \u001b[0;36m_find_and_load_unlocked\u001b[0;34m(name, import_)\u001b[0m\n",
      "\u001b[0;31mModuleNotFoundError\u001b[0m: No module named 'isqlite3'"
     ]
    }
   ],
   "source": [
    "%load_ext isqlite3\n",
    "%sql_open assignment3.db"
   ]
  },
  {
   "cell_type": "markdown",
   "id": "171ab1e7",
   "metadata": {},
   "source": [
    "### Assignment 3.1 (2 points)"
   ]
  },
  {
   "cell_type": "markdown",
   "id": "b53e216a",
   "metadata": {},
   "source": [
    "Write an SQL query to return all customers from USA.\n",
    "\n",
    "Sort the result set by the last name and then by the first name.\n",
    "\n",
    "Columns in the result set: all columns in the relevant table."
   ]
  },
  {
   "cell_type": "code",
   "execution_count": null,
   "id": "7851d9a6",
   "metadata": {},
   "outputs": [],
   "source": [
    "%%sql ANSWER CELL 3.1 (DO NOT REMOVE OR CHANGE THIS LINE)\n",
    "\n",
    "select * from Customer where Country is 'USA' order by LastName, FirstName"
   ]
  },
  {
   "cell_type": "markdown",
   "id": "0538fd5f",
   "metadata": {},
   "source": [
    "### Assignment 3.2 (2 points)"
   ]
  },
  {
   "cell_type": "markdown",
   "id": "98b47022",
   "metadata": {},
   "source": [
    "Write an SQL query to return the number of how many artists have their name starting with `A`. (Only consider `A` at the beginning of the whole name, e.g. *Alice in Chains* is one of these artists, but *Pedro Luis & A Parede* is not.)"
   ]
  },
  {
   "cell_type": "code",
   "execution_count": null,
   "id": "9a9d1e1d",
   "metadata": {},
   "outputs": [],
   "source": [
    "%%sql ANSWER CELL 3.2 (DO NOT REMOVE OR CHANGE THIS LINE)\n",
    "\n",
    "select count(*) as 'No. of Artists name starting with \"A\" ' \n",
    "from Artist \n",
    "where Name like 'A%'"
   ]
  },
  {
   "cell_type": "markdown",
   "id": "99a36ee2",
   "metadata": {},
   "source": [
    "### Assignment 3.3 (2 points)"
   ]
  },
  {
   "cell_type": "markdown",
   "id": "d2f71ffd",
   "metadata": {},
   "source": [
    "Write an SQL query to return the title of all albums together with the artist's name.\n",
    "\n",
    "Sort the result set by the artist's name first, then by the album's title.\n",
    "\n",
    "Columns in the result set: artist's name, album's title."
   ]
  },
  {
   "cell_type": "code",
   "execution_count": null,
   "id": "89ed3bef",
   "metadata": {},
   "outputs": [],
   "source": [
    "%%sql ANSWER CELL 3.3 (DO NOT REMOVE OR CHANGE THIS LINE)\n",
    "\n",
    "select ar.Name as \"Artist's Name\", al.Title as \"Album's Title\" \n",
    "from Album as al join Artist as ar on al.ArtistId = ar.ArtistId"
   ]
  },
  {
   "cell_type": "markdown",
   "id": "fe7c02d8",
   "metadata": {},
   "source": [
    "### Assignment 3.4 (2 points + possibility for 1 bonus point)"
   ]
  },
  {
   "cell_type": "markdown",
   "id": "d4146686",
   "metadata": {},
   "source": [
    "Write an SQL query to return the last name and the title of all employees, together with the last name and the title of their supervisor (i.e. the person they report to).\n",
    "\n",
    "The list must include all employees, also those that do not have any supervisor.\n",
    "\n",
    "Columns in the result set: employee's last name, employee's title, supervisor's last name, supervisor's first name.\n",
    "\n",
    "#### Bonus point challenge\n",
    "\n",
    "Add another column in the result set that shows employees' depth in the organizational hierarchy. Employees that do not have any supervisor are at level 1, employees reporting to them are at level 2, etc."
   ]
  },
  {
   "cell_type": "code",
   "execution_count": null,
   "id": "95975526",
   "metadata": {},
   "outputs": [],
   "source": [
    "%%sql ANSWER CELL 3.4 (DO NOT REMOVE OR CHANGE THIS LINE)\n",
    "\n",
    "select e.Lastname as \"Employee Last Name\", e.Title as \"Employee Title\", s.Lastname as \"Supervisor lastName\",s.FirstName as \"Supervisor Firstname\"\n",
    "from Employee as e left join Employee as s on e.ReportsTo = s.EmployeeId"
   ]
  },
  {
   "cell_type": "markdown",
   "id": "c7b1b2a2",
   "metadata": {},
   "source": [
    "### Assignment 3.5 (2 points)"
   ]
  },
  {
   "cell_type": "markdown",
   "id": "651f3167",
   "metadata": {},
   "source": [
    "Write an SQL query to return the ID, the last name and the title of all employees that do not support any customers.\n",
    "\n",
    "Return the following columns in the result set: employee ID, last name, title."
   ]
  },
  {
   "cell_type": "code",
   "execution_count": null,
   "id": "f2d9cbff",
   "metadata": {},
   "outputs": [],
   "source": [
    "%%sql ANSWER CELL 3.5 (DO NOT REMOVE OR CHANGE THIS LINE)\n",
    "\n",
    "select e.EmployeeId,e.LastName,e.Title from Employee as e left join Customer as c on c.SupportRepId = e.EmployeeId\n",
    "where e.EmployeeId NOT in (select SupportRepId from Customer)"
   ]
  },
  {
   "cell_type": "markdown",
   "id": "c6c13f49",
   "metadata": {},
   "source": [
    "### Assignment 3.6 (2 points)"
   ]
  },
  {
   "cell_type": "markdown",
   "id": "da57ec82",
   "metadata": {},
   "source": [
    "Write an SQL query to return the ID, the first and last name of all customers that have purchased at least one track in the store, together with the total amount they have spent (for all their purchases). \n",
    "\n",
    "Columns in the result set: customer ID, first name, last name, total amount."
   ]
  },
  {
   "cell_type": "code",
   "execution_count": null,
   "id": "6af5b257",
   "metadata": {},
   "outputs": [],
   "source": [
    "%%sql ANSWER CELL 3.6 (DO NOT REMOVE OR CHANGE THIS LINE)\n",
    "\n",
    "select c.CustomerId as CusotmerID,c.FirstName as FirstName,c.LastName as LastName, sum(i.Total) as \"Total Amount\" \n",
    "from Customer as c join Invoice as i on c.CustomerId = i.CustomerId\n",
    "group by i.CustomerId"
   ]
  },
  {
   "cell_type": "markdown",
   "id": "48492e1f",
   "metadata": {},
   "source": [
    "### Assignment 3.7 (2 points)"
   ]
  },
  {
   "cell_type": "markdown",
   "id": "8650a88d",
   "metadata": {},
   "source": [
    "Write an SQL query to select the ID and the name of playlists, together with their total duration in minutes.\n",
    "\n",
    "Do not include playlists shorter than 120 minutes.\n",
    "\n",
    "Sort the playlists by the duration in the descending order.\n",
    "\n",
    "Columns in the result set: playlist ID, name, duration."
   ]
  },
  {
   "cell_type": "code",
   "execution_count": null,
   "id": "f1853caf",
   "metadata": {},
   "outputs": [],
   "source": [
    "%%sql ANSWER CELL 3.7 (DO NOT REMOVE OR CHANGE THIS LINE)\n",
    "\n",
    "Select * from (Select pl.PlaylistId, pl.name, sum(t.Milliseconds)/60000 as duration\n",
    "from Playlist as pl,PlaylistTrack as plt,Track as t\n",
    "where pl.PlaylistId=plt.PlaylistId and plt.TrackId = t.TrackId\n",
    "group by pl.PlaylistId) \n",
    "where duration>=120 \n",
    "order by duration desc"
   ]
  },
  {
   "cell_type": "markdown",
   "id": "63b9194b",
   "metadata": {},
   "source": [
    "### Assignment 3.8 (2 points)"
   ]
  },
  {
   "cell_type": "markdown",
   "id": "7fdfa68c",
   "metadata": {},
   "source": [
    "As you might have noticed in the result set of the previous task, some of the playlists do not have unique names. Write an SQL query to select the ID and the title of all playlists that do not have unique names.\n",
    "\n",
    "Columns to select: all columns in the playlist table."
   ]
  },
  {
   "cell_type": "code",
   "execution_count": null,
   "id": "5cdcbbf1",
   "metadata": {},
   "outputs": [],
   "source": [
    "%%sql ANSWER CELL 3.8 (DO NOT REMOVE OR CHANGE THIS LINE)\n",
    "\n",
    "Select * from (Select pl.PlaylistId, pl.name, sum(t.Milliseconds)/60000 as duration\n",
    "from Playlist as pl,PlaylistTrack as plt,Track as t\n",
    "where pl.PlaylistId=plt.PlaylistId and plt.TrackId = t.TrackId\n",
    "group by pl.PlaylistId) \n",
    "where duration>=120 \n",
    "order by duration desc"
   ]
  },
  {
   "cell_type": "markdown",
   "id": "902030e9",
   "metadata": {},
   "source": [
    "### Assignment 3.9 (2 points)"
   ]
  },
  {
   "cell_type": "markdown",
   "id": "fb1d69ad",
   "metadata": {},
   "source": [
    "Write an SQL query to return the name of a city (or cities if there are several of them) where most of the employees live, together with the number of employees living there.\n",
    "\n",
    "Columns in the result set: city, the number of employees living there."
   ]
  },
  {
   "cell_type": "code",
   "execution_count": null,
   "id": "6dca4328",
   "metadata": {
    "scrolled": true
   },
   "outputs": [],
   "source": [
    "%%sql ANSWER CELL 3.9 (DO NOT REMOVE OR CHANGE THIS LINE)\n",
    "select city, count(*) as Employees_Living\n",
    "from employee \n",
    "group by city\n",
    "having Employees_Living=\n",
    "(select max(c) from(select count(*) as c from employee group by city))\n"
   ]
  },
  {
   "cell_type": "markdown",
   "id": "06a5c703",
   "metadata": {},
   "source": [
    "### Assignment 3.10 (2 points)"
   ]
  },
  {
   "cell_type": "markdown",
   "id": "727f7af9",
   "metadata": {},
   "source": [
    "a) Write an INSERT statement that fails due to the referential integrity.  \n",
    "b) Using your example, explain what referential integrity means and why the statement failed."
   ]
  },
  {
   "cell_type": "code",
   "execution_count": null,
   "id": "f01e6904",
   "metadata": {
    "scrolled": true
   },
   "outputs": [],
   "source": [
    "%%sql ANSWER CELL 3.10a (DO NOT REMOVE OR CHANGE THIS LINE)\n",
    "\n",
    "\n",
    "insert into PlaylistTrack (PlaylistId,TrackId) values(40,4000)"
   ]
  },
  {
   "cell_type": "raw",
   "id": "e0f1cc08",
   "metadata": {},
   "source": [
    "-- ANSWER CELL 3.10b (DO NOT REMOVE OR CHANGE THIS LINE)\n",
    "\n",
    "Add your explanation below:\n",
    "\n",
    "Referential integrity indicates the connection of two tables in a database, making sure that when a foreign key is used, it should refer to the primary key inside the database\n",
    "\n",
    "The above INSERT query fails as its not violating the primary key constraints of the data base. "
   ]
  },
  {
   "cell_type": "markdown",
   "id": "32d6d68e",
   "metadata": {},
   "source": [
    "### Used resources\n",
    "\n",
    "Include URLs of online resources that you have used to solve the exercises in this section:"
   ]
  },
  {
   "cell_type": "raw",
   "id": "2873756c",
   "metadata": {},
   "source": [
    "\n",
    "\n",
    "\n",
    "\n"
   ]
  },
  {
   "cell_type": "markdown",
   "id": "0ec1bcf2",
   "metadata": {},
   "source": [
    "## Appendix A. Database schema\n",
    "\n",
    "Note: `NVARCHAR`, `INTEGER` and `NUMERIC` are synonymous with `VARCHAR`, `INT` and `DECIMAL`.\n",
    "\n",
    "```sql\n",
    "CREATE TABLE Album\n",
    "(\n",
    "   AlbumId INTEGER NOT NULL,\n",
    "   Title NVARCHAR(160) NOT NULL,\n",
    "   ArtistId INTEGER NOT NULL,\n",
    "   PRIMARY KEY (AlbumId),\n",
    "   FOREIGN KEY (ArtistId) REFERENCES Artist (ArtistId)\n",
    ");\n",
    "CREATE TABLE Artist\n",
    "(\n",
    "   ArtistId INTEGER NOT NULL,\n",
    "   Name NVARCHAR(120),\n",
    "   PRIMARY KEY (ArtistId)\n",
    ");\n",
    "CREATE TABLE Customer\n",
    "(\n",
    "   CustomerId INTEGER NOT NULL,\n",
    "   FirstName NVARCHAR(40) NOT NULL,\n",
    "   LastName NVARCHAR(20) NOT NULL,\n",
    "   Company NVARCHAR(80),\n",
    "   Address NVARCHAR(70),\n",
    "   City NVARCHAR(40),\n",
    "   State NVARCHAR(40),\n",
    "   Country NVARCHAR(40),\n",
    "   PostalCode NVARCHAR(10),\n",
    "   Phone NVARCHAR(24),\n",
    "   Fax NVARCHAR(24),\n",
    "   Email NVARCHAR(60) NOT NULL,\n",
    "   SupportRepId INTEGER,\n",
    "   PRIMARY KEY (CustomerId),\n",
    "   FOREIGN KEY (SupportRepId) REFERENCES Employee (EmployeeId)\n",
    ");\n",
    "CREATE TABLE Employee\n",
    "(\n",
    "   EmployeeId INTEGER NOT NULL,\n",
    "   LastName NVARCHAR(20) NOT NULL,\n",
    "   FirstName NVARCHAR(20) NOT NULL,\n",
    "   Title NVARCHAR(30),\n",
    "   ReportsTo INTEGER,\n",
    "   BirthDate DATETIME,\n",
    "   HireDate DATETIME,\n",
    "   Address NVARCHAR(70),\n",
    "   City NVARCHAR(40),\n",
    "   State NVARCHAR(40),\n",
    "   Country NVARCHAR(40),\n",
    "   PostalCode NVARCHAR(10),\n",
    "   Phone NVARCHAR(24),\n",
    "   Fax NVARCHAR(24),\n",
    "   Email NVARCHAR(60),\n",
    "   PRIMARY KEY (EmployeeId),\n",
    "   FOREIGN KEY (ReportsTo) REFERENCES Employee (EmployeeId)\n",
    ");\n",
    "CREATE TABLE Genre\n",
    "(\n",
    "   GenreId INTEGER NOT NULL,\n",
    "   Name NVARCHAR(120),\n",
    "   PRIMARY KEY (GenreId)\n",
    ");\n",
    "5\n",
    "CREATE TABLE Invoice\n",
    "(\n",
    "   InvoiceId INTEGER NOT NULL,\n",
    "   CustomerId INTEGER NOT NULL,\n",
    "   InvoiceDate DATETIME NOT NULL,\n",
    "   BillingAddress NVARCHAR(70),\n",
    "   BillingCity NVARCHAR(40),\n",
    "   BillingState NVARCHAR(40),\n",
    "   BillingCountry NVARCHAR(40),\n",
    "   BillingPostalCode NVARCHAR(10),\n",
    "   Total NUMERIC(10,2) NOT NULL,\n",
    "   PRIMARY KEY (InvoiceId),\n",
    "   FOREIGN KEY (CustomerId) REFERENCES Customer (CustomerId)\n",
    ");\n",
    "CREATE TABLE InvoiceLine\n",
    "(\n",
    "   InvoiceLineId INTEGER NOT NULL,\n",
    "   InvoiceId INTEGER NOT NULL,\n",
    "   TrackId INTEGER NOT NULL,\n",
    "   UnitPrice NUMERIC(10,2) NOT NULL,\n",
    "   Quantity INTEGER NOT NULL,\n",
    "   PRIMARY KEY (InvoiceLineId),\n",
    "   FOREIGN KEY (InvoiceId) REFERENCES Invoice (InvoiceId),\n",
    "   FOREIGN KEY (TrackId) REFERENCES Track (TrackId)\n",
    ");\n",
    "CREATE TABLE MediaType\n",
    "(\n",
    "   MediaTypeId INTEGER NOT NULL,\n",
    "   Name NVARCHAR(120),\n",
    "   PRIMARY KEY (MediaTypeId)\n",
    ");\n",
    "CREATE TABLE Playlist\n",
    "(\n",
    "   PlaylistId INTEGER NOT NULL,\n",
    "   Name NVARCHAR(120),\n",
    "   PRIMARY KEY (PlaylistId)\n",
    ");\n",
    "CREATE TABLE PlaylistTrack\n",
    "(\n",
    "   PlaylistId INTEGER NOT NULL,\n",
    "   TrackId INTEGER NOT NULL,\n",
    "   PRIMARY KEY (PlaylistId, TrackId),\n",
    "   FOREIGN KEY (PlaylistId) REFERENCES Playlist (PlaylistId),\n",
    "   FOREIGN KEY (TrackId) REFERENCES Track (TrackId)\n",
    ");\n",
    "CREATE TABLE Track\n",
    "(\n",
    "   TrackId INTEGER NOT NULL,\n",
    "   Name NVARCHAR(200) NOT NULL,\n",
    "   AlbumId INTEGER,\n",
    "   MediaTypeId INTEGER NOT NULL,\n",
    "   GenreId INTEGER,\n",
    "   Composer NVARCHAR(220),\n",
    "   Milliseconds INTEGER NOT NULL,\n",
    "   Bytes INTEGER,\n",
    "   UnitPrice NUMERIC(10,2) NOT NULL,\n",
    "   PRIMARY KEY (TrackId),\n",
    "   FOREIGN KEY (AlbumId) REFERENCES Album (AlbumId),\n",
    "   FOREIGN KEY (GenreId) REFERENCES Genre (GenreId),\n",
    "   FOREIGN KEY (MediaTypeId) REFERENCES MediaType (MediaTypeId)\n",
    ");\n",
    "```"
   ]
  }
 ],
 "metadata": {
  "kernelspec": {
   "display_name": "base",
   "language": "python",
   "name": "python3"
  },
  "language_info": {
   "codemirror_mode": {
    "name": "ipython",
    "version": 3
   },
   "file_extension": ".py",
   "mimetype": "text/x-python",
   "name": "python",
   "nbconvert_exporter": "python",
   "pygments_lexer": "ipython3",
   "version": "3.9.12"
  },
  "vscode": {
   "interpreter": {
    "hash": "40d3a090f54c6569ab1632332b64b2c03c39dcf918b08424e98f38b5ae0af88f"
   }
  }
 },
 "nbformat": 4,
 "nbformat_minor": 5
}
