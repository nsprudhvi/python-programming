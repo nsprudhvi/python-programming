{
 "cells": [
  {
   "attachments": {},
   "cell_type": "markdown",
   "id": "31668e35",
   "metadata": {},
   "source": [
    "## Assignment 2. Pandas"
   ]
  },
  {
   "cell_type": "markdown",
   "id": "5403c0e8",
   "metadata": {},
   "source": [
    "All assignments in the *Pandas* section use the same data, so read the following description very carefully!\n",
    "\n",
    "The CSV file `daily_tv_viewing_time.csv` contains the average daily viewing time in minutes for Norwegian TV channels for each of the last three years (2018, 2019 and 2020). The data for each year is broken down by age groups:\n",
    "\n",
    "- 10-19 years\n",
    "- 20-34 years\n",
    "- 35-44 years\n",
    "- 45-54 years\n",
    "- 55-64 years\n",
    "- 65-79 years\n",
    "- 10-79 years\n",
    "\n",
    "Note that the last age group (10-79 years) summarizes the viewing time for all consumers independently on their age.\n",
    "\n",
    "The data set contains the following columns:\n",
    "\n",
    "- `Year`: the year (2018, 2019 or 2020).\n",
    "- `AgeGroup`: the age group, as described above (the word \"years\" is omitted from the values).\n",
    "- Remaining columns: average daily viewing time in minutes for individual TV channels identified by the column name (e.g. `NRK1`). The last column (`Others`) is not related to a specific channel but summarizes the time spent watching other TV channels.\n",
    "\n",
    "There are four big media groups in Norway: *NRK*, *TV 2*, *Discovery* and *NENT*. The CSV file `media_groups.csv` contains an overview of what channels are owned by each of these groups. Note that some channels are owned by smaller media groups and **not** included in the overview.\n",
    "\n",
    "**Each task must be solved programmatically, i.e. you need to write Python code that uses the data files and calculates an answer. You are not allowed to change the contents of the data files.**\n",
    "\n",
    "Tips:\n",
    "- First inspect the content of both files. Then read all assignments in this section, and think about what operations you should do with the data before solving the assignments (e.g. how to merge the data, what to use as the index, you might want to add some columns and/or sort the data in a particular order, etc.)\n",
    "- Pay attention to how missing values are specified in the data files.\n",
    "\n",
    "<small>Source of data: Kantar TNS and medianorway (Department of Information Science and Media Studies, University of Bergen).</small>"
   ]
  },
  {
   "cell_type": "markdown",
   "id": "c3c1a8e6",
   "metadata": {},
   "source": [
    "You might read and pre-process the data in the following cell. Feel free to add extra cells if you need them."
   ]
  },
  {
   "cell_type": "code",
   "execution_count": 17,
   "id": "533c8b0a",
   "metadata": {},
   "outputs": [],
   "source": [
    "import time\n",
    "import pandas as pd\n",
    "import numpy as np\n",
    "import matplotlib.pyplot as plt\n",
    "df = pd.read_csv('daily_tv_viewing_time.csv' , sep=';',header = 0)\n",
    "pd.options.mode.chained_assignment = None"
   ]
  },
  {
   "cell_type": "markdown",
   "id": "364a907a",
   "metadata": {},
   "source": [
    "### Assignment 2.1 (2 points)\n",
    "\n",
    "How much time did an average consumer (in the age group 10-79 years) spend watching TV every day in 2020? Round the result to whole minutes and display it in the form \"H hr MM min\"."
   ]
  },
  {
   "cell_type": "code",
   "execution_count": 18,
   "id": "997a547c",
   "metadata": {},
   "outputs": [
    {
     "name": "stdout",
     "output_type": "stream",
     "text": [
      "5 hr : 07 min\n"
     ]
    }
   ],
   "source": [
    "# ANSWER CELL 2.1 (DO NOT REMOVE OR CHANGE THIS LINE)\n",
    "\n",
    "rows = df.shape[0]\n",
    "columns=df.shape[1]\n",
    "dict1 = df.to_dict(orient='records')\n",
    "channel_names = ['NRK1','NRK2','NRK3/Super','TV 2','TV 2 Zebra','TV 2 Nyhetskanalen','TV 2 Humor','TV 2 Livsstil','TV 2 Sportskanalen','TV 2 Sport 1','TV 2 Sport 2','TV 2 Sport Premium 1','TV 2 Sport Premium 2','TVNorge','FEM','MAX','VOX','Eurosport Norge','TV3','V4','TV6','Matkanalen','Others']\n",
    "\n",
    "avg=0.0\n",
    "for row in range(0,rows):\n",
    "    if(dict1[row]['Year'] == 2020 and dict1[row]['AgeGroup']=='10-79'):\n",
    "        for ch in channel_names:\n",
    "            if(dict1[row][ch]!= '-'):\n",
    "                avg=avg + float(dict1[row][ch])\n",
    "time = avg/(columns-2)\n",
    "hours = int(time)\n",
    "minutes = (time * 60) % 60\n",
    "seconds = (time * 3600) % 60\n",
    "\n",
    "print(\"%d hr : %02d min\" % (hours, minutes))"
   ]
  },
  {
   "cell_type": "markdown",
   "id": "d3b8937f",
   "metadata": {},
   "source": [
    "### Assignment 2.2 (2 points)\n",
    "\n",
    "What was the most popular TV channel in the age group 20-34 years in 2019?"
   ]
  },
  {
   "cell_type": "code",
   "execution_count": 19,
   "id": "1552e815",
   "metadata": {},
   "outputs": [
    {
     "name": "stdout",
     "output_type": "stream",
     "text": [
      "Most Popular Channel in the age group 20-34 in 2019 is TV 2\n"
     ]
    }
   ],
   "source": [
    "# ANSWER CELL 2.2 (DO NOT REMOVE OR CHANGE THIS LINE)\n",
    "\n",
    "rows = df.shape[0]\n",
    "columns=df.shape[1]\n",
    "dict1 = df.to_dict(orient='records')\n",
    "channel_names = ['NRK1','NRK2','NRK3/Super','TV 2','TV 2 Zebra','TV 2 Nyhetskanalen','TV 2 Humor','TV 2 Livsstil','TV 2 Sportskanalen','TV 2 Sport 1','TV 2 Sport 2','TV 2 Sport Premium 1','TV 2 Sport Premium 2','TVNorge','FEM','MAX','VOX','Eurosport Norge','TV3','V4','TV6','Matkanalen','Others']\n",
    "\n",
    "val=0\n",
    "popular = 0\n",
    "for row in range(0,rows):\n",
    "    if(dict1[row]['Year'] == 2019 and dict1[row]['AgeGroup']=='20-34'):\n",
    "        for ch in channel_names:\n",
    "            if(dict1[row][ch]!= '-'):\n",
    "                val = float(dict1[row][ch])\n",
    "                if(val > popular):\n",
    "                    popular = val\n",
    "                    pop = ch\n",
    "print(\"Most Popular Channel in the age group 20-34 in 2019 is\",pop)"
   ]
  },
  {
   "cell_type": "markdown",
   "id": "04cdd197",
   "metadata": {},
   "source": [
    "### Assignment 2.3 (2 points)\n",
    "\n",
    "How much time (in minutes) did an average consumer in each age group spend watching TV every day in 2020? (Do not include the 10-79 group.)\n",
    "\n",
    "Present the results in the tabular form and as a horizontal bar plot."
   ]
  },
  {
   "cell_type": "code",
   "execution_count": 20,
   "id": "35720720",
   "metadata": {},
   "outputs": [
    {
     "name": "stdout",
     "output_type": "stream",
     "text": [
      "AgeGroup  Average Time Spent\n",
      "   10-19            1.173043\n",
      "   20-34            1.607391\n",
      "   35-44            3.300870\n",
      "   45-54            6.398261\n",
      "   55-64            8.463913\n",
      "   65-79           11.664348\n"
     ]
    },
    {
     "data": {
      "image/png": "[encoded data removed]",
      "text/plain": [
       "<Figure size 432x288 with 1 Axes>"
      ]
     },
     "metadata": {
      "needs_background": "light"
     },
     "output_type": "display_data"
    }
   ],
   "source": [
    "# ANSWER CELL 2.3 (DO NOT REMOVE OR CHANGE THIS LINE)\n",
    "\n",
    "rows = df.shape[0]\n",
    "columns=df.shape[1]\n",
    "dict1 = df.to_dict(orient='records')\n",
    "column_names = ['NRK1','NRK2','NRK3/Super','TV 2','TV 2 Zebra','TV 2 Nyhetskanalen','TV 2 Humor','TV 2 Livsstil','TV 2 Sportskanalen','TV 2 Sport 1','TV 2 Sport 2','TV 2 Sport Premium 1','TV 2 Sport Premium 2','TVNorge','FEM','MAX','VOX','Eurosport Norge','TV3','V4','TV6','Matkanalen','Others']\n",
    "AgeGroup = ['10-19','20-34','35-44','45-54','55-64','65-79']\n",
    "\n",
    "avg=0.0\n",
    "avgs = []\n",
    "min = []\n",
    "for row in range(0,rows):\n",
    "    if(dict1[row]['Year'] == 2020 and dict1[row]['AgeGroup'] != '10-79'):        \n",
    "        res = 0\n",
    "        for col in column_names:\n",
    "            if(dict1[row][col]  != '-'):\n",
    "                res=res+ float(dict1[row][col])\n",
    "        avgs.append(res/(columns-2))       \n",
    "table = {'AgeGroup': AgeGroup, 'Average Time Spent': avgs}\n",
    "df1 = pd.DataFrame(table)\n",
    "print(df1.to_string(index=False))\n",
    "\n",
    "x = np.array(AgeGroup)\n",
    "y = np.array(avgs)\n",
    "plt.xlabel(\"Average Duration\")\n",
    "plt.ylabel(\"Age Groups\")\n",
    "plt.title(\"Average time spent watching TV by consumer in each age every day in 2020\")\n",
    "plt.barh(x,y)\n",
    "plt.show()"
   ]
  },
  {
   "cell_type": "markdown",
   "id": "9ec78ee0",
   "metadata": {},
   "source": [
    "### Assignment 2.4 (2 points)\n",
    "\n",
    "Calculate the market shares of all channels in each year.\n",
    "\n",
    "Market share of a channel is the channel's average viewing time (in the age group 10-79 years) divided by the sum of the average viewing times for all channels, and converted to percents.\n",
    "\n",
    "Hint: If you need to perform element-wise division of all columns of a dataframe by a series, you can use the [div](https://pandas.pydata.org/docs/reference/api/pandas.DataFrame.div.html) method with `axis=0`.\n",
    "\n",
    "What was the market share of NRK1 in 2020?"
   ]
  },
  {
   "cell_type": "code",
   "execution_count": 21,
   "id": "0e949c07",
   "metadata": {},
   "outputs": [
    {
     "data": {
      "text/html": [
       "<div>\n",
       "<style scoped>\n",
       "    .dataframe tbody tr th:only-of-type {\n",
       "        vertical-align: middle;\n",
       "    }\n",
       "\n",
       "    .dataframe tbody tr th {\n",
       "        vertical-align: top;\n",
       "    }\n",
       "\n",
       "    .dataframe thead th {\n",
       "        text-align: right;\n",
       "    }\n",
       "</style>\n",
       "<table border=\"1\" class=\"dataframe\">\n",
       "  <thead>\n",
       "    <tr style=\"text-align: right;\">\n",
       "      <th></th>\n",
       "      <th></th>\n",
       "      <th>NRK1</th>\n",
       "      <th>NRK2</th>\n",
       "      <th>NRK3/Super</th>\n",
       "      <th>TV 2</th>\n",
       "      <th>TV 2 Zebra</th>\n",
       "      <th>TV 2 Nyhetskanalen</th>\n",
       "      <th>TV 2 Humor</th>\n",
       "      <th>TV 2 Livsstil</th>\n",
       "      <th>TV 2 Sportskanalen</th>\n",
       "      <th>TV 2 Sport 1</th>\n",
       "      <th>...</th>\n",
       "      <th>TVNorge</th>\n",
       "      <th>FEM</th>\n",
       "      <th>MAX</th>\n",
       "      <th>VOX</th>\n",
       "      <th>Eurosport Norge</th>\n",
       "      <th>TV3</th>\n",
       "      <th>V4</th>\n",
       "      <th>TV6</th>\n",
       "      <th>Matkanalen</th>\n",
       "      <th>Others</th>\n",
       "    </tr>\n",
       "    <tr>\n",
       "      <th>Year</th>\n",
       "      <th>AgeGroup</th>\n",
       "      <th></th>\n",
       "      <th></th>\n",
       "      <th></th>\n",
       "      <th></th>\n",
       "      <th></th>\n",
       "      <th></th>\n",
       "      <th></th>\n",
       "      <th></th>\n",
       "      <th></th>\n",
       "      <th></th>\n",
       "      <th></th>\n",
       "      <th></th>\n",
       "      <th></th>\n",
       "      <th></th>\n",
       "      <th></th>\n",
       "      <th></th>\n",
       "      <th></th>\n",
       "      <th></th>\n",
       "      <th></th>\n",
       "      <th></th>\n",
       "      <th></th>\n",
       "    </tr>\n",
       "  </thead>\n",
       "  <tbody>\n",
       "    <tr>\n",
       "      <th>2018</th>\n",
       "      <th>10-79</th>\n",
       "      <td>0.304751</td>\n",
       "      <td>0.049953</td>\n",
       "      <td>0.023993</td>\n",
       "      <td>0.189821</td>\n",
       "      <td>0.015969</td>\n",
       "      <td>0.036973</td>\n",
       "      <td>0.005979</td>\n",
       "      <td>0.009991</td>\n",
       "      <td>0.004012</td>\n",
       "      <td>0.001023</td>\n",
       "      <td>...</td>\n",
       "      <td>0.078902</td>\n",
       "      <td>0.019981</td>\n",
       "      <td>0.028949</td>\n",
       "      <td>0.021004</td>\n",
       "      <td>0.009991</td>\n",
       "      <td>0.038940</td>\n",
       "      <td>0.018958</td>\n",
       "      <td>0.015969</td>\n",
       "      <td>0.001967</td>\n",
       "      <td>0.120909</td>\n",
       "    </tr>\n",
       "    <tr>\n",
       "      <th>2019</th>\n",
       "      <th>10-79</th>\n",
       "      <td>0.319356</td>\n",
       "      <td>0.053055</td>\n",
       "      <td>0.021992</td>\n",
       "      <td>0.187233</td>\n",
       "      <td>0.018997</td>\n",
       "      <td>0.035085</td>\n",
       "      <td>0.005990</td>\n",
       "      <td>0.011980</td>\n",
       "      <td>0.000000</td>\n",
       "      <td>0.005990</td>\n",
       "      <td>...</td>\n",
       "      <td>0.056050</td>\n",
       "      <td>0.021051</td>\n",
       "      <td>0.026014</td>\n",
       "      <td>0.024046</td>\n",
       "      <td>0.008985</td>\n",
       "      <td>0.042016</td>\n",
       "      <td>0.018997</td>\n",
       "      <td>0.015061</td>\n",
       "      <td>0.001968</td>\n",
       "      <td>0.109105</td>\n",
       "    </tr>\n",
       "    <tr>\n",
       "      <th>2020</th>\n",
       "      <th>10-79</th>\n",
       "      <td>0.357397</td>\n",
       "      <td>0.051069</td>\n",
       "      <td>0.019002</td>\n",
       "      <td>0.169155</td>\n",
       "      <td>0.016033</td>\n",
       "      <td>0.043010</td>\n",
       "      <td>0.000000</td>\n",
       "      <td>0.010010</td>\n",
       "      <td>0.000000</td>\n",
       "      <td>0.006023</td>\n",
       "      <td>...</td>\n",
       "      <td>0.052087</td>\n",
       "      <td>0.019002</td>\n",
       "      <td>0.022989</td>\n",
       "      <td>0.024007</td>\n",
       "      <td>0.008992</td>\n",
       "      <td>0.041059</td>\n",
       "      <td>0.017051</td>\n",
       "      <td>0.012979</td>\n",
       "      <td>0.002036</td>\n",
       "      <td>0.114099</td>\n",
       "    </tr>\n",
       "  </tbody>\n",
       "</table>\n",
       "<p>3 rows × 23 columns</p>\n",
       "</div>"
      ],
      "text/plain": [
       "                   NRK1      NRK2  NRK3/Super      TV 2  TV 2 Zebra  \\\n",
       "Year AgeGroup                                                         \n",
       "2018 10-79     0.304751  0.049953    0.023993  0.189821    0.015969   \n",
       "2019 10-79     0.319356  0.053055    0.021992  0.187233    0.018997   \n",
       "2020 10-79     0.357397  0.051069    0.019002  0.169155    0.016033   \n",
       "\n",
       "               TV 2 Nyhetskanalen  TV 2 Humor  TV 2 Livsstil  \\\n",
       "Year AgeGroup                                                  \n",
       "2018 10-79               0.036973    0.005979       0.009991   \n",
       "2019 10-79               0.035085    0.005990       0.011980   \n",
       "2020 10-79               0.043010    0.000000       0.010010   \n",
       "\n",
       "               TV 2 Sportskanalen  TV 2 Sport 1  ...   TVNorge       FEM  \\\n",
       "Year AgeGroup                                    ...                       \n",
       "2018 10-79               0.004012      0.001023  ...  0.078902  0.019981   \n",
       "2019 10-79               0.000000      0.005990  ...  0.056050  0.021051   \n",
       "2020 10-79               0.000000      0.006023  ...  0.052087  0.019002   \n",
       "\n",
       "                    MAX       VOX  Eurosport Norge       TV3        V4  \\\n",
       "Year AgeGroup                                                            \n",
       "2018 10-79     0.028949  0.021004         0.009991  0.038940  0.018958   \n",
       "2019 10-79     0.026014  0.024046         0.008985  0.042016  0.018997   \n",
       "2020 10-79     0.022989  0.024007         0.008992  0.041059  0.017051   \n",
       "\n",
       "                    TV6  Matkanalen    Others  \n",
       "Year AgeGroup                                  \n",
       "2018 10-79     0.015969    0.001967  0.120909  \n",
       "2019 10-79     0.015061    0.001968  0.109105  \n",
       "2020 10-79     0.012979    0.002036  0.114099  \n",
       "\n",
       "[3 rows x 23 columns]"
      ]
     },
     "metadata": {},
     "output_type": "display_data"
    },
    {
     "data": {
      "text/html": [
       "<div>\n",
       "<style scoped>\n",
       "    .dataframe tbody tr th:only-of-type {\n",
       "        vertical-align: middle;\n",
       "    }\n",
       "\n",
       "    .dataframe tbody tr th {\n",
       "        vertical-align: top;\n",
       "    }\n",
       "\n",
       "    .dataframe thead th {\n",
       "        text-align: right;\n",
       "    }\n",
       "</style>\n",
       "<table border=\"1\" class=\"dataframe\">\n",
       "  <thead>\n",
       "    <tr style=\"text-align: right;\">\n",
       "      <th></th>\n",
       "      <th></th>\n",
       "      <th>NRK1</th>\n",
       "    </tr>\n",
       "    <tr>\n",
       "      <th>Year</th>\n",
       "      <th>AgeGroup</th>\n",
       "      <th></th>\n",
       "    </tr>\n",
       "  </thead>\n",
       "  <tbody>\n",
       "    <tr>\n",
       "      <th>2020</th>\n",
       "      <th>10-79</th>\n",
       "      <td>0.357397</td>\n",
       "    </tr>\n",
       "  </tbody>\n",
       "</table>\n",
       "</div>"
      ],
      "text/plain": [
       "                   NRK1\n",
       "Year AgeGroup          \n",
       "2020 10-79     0.357397"
      ]
     },
     "metadata": {},
     "output_type": "display_data"
    }
   ],
   "source": [
    "# ANSWER CELL 2.4 (DO NOT REMOVE OR CHANGE THIS LINE)\n",
    "\n",
    "import time\n",
    "df = pd.read_csv('daily_tv_viewing_time.csv', sep=';',header = 0)\n",
    "df[\"TV 2 Humor\"] = [float(str(i).replace(\"-\", \"0\")) for i in df[\"TV 2 Humor\"]]\n",
    "df[\"TV 2 Sportskanalen\"] = [float(str(i).replace(\"-\", \"0\")) for i in df[\"TV 2 Sportskanalen\"]]\n",
    "df[\"TV 2 Sport Premium 1\"] = [float(str(i).replace(\"-\", \"0\")) for i in df[\"TV 2 Sport Premium 1\"]]\n",
    "df[\"TV 2 Sport Premium 2\"] = [float(str(i).replace(\"-\", \"0\")) for i in df[\"TV 2 Sport Premium 2\"]]\n",
    "df[['NRK1','NRK2','NRK3/Super','TV 2','TV 2 Zebra','TV 2 Nyhetskanalen','TV 2 Humor','TV 2 Livsstil','TV 2 Sportskanalen','TV 2 Sport 1','TV 2 Sport 2','TV 2 Sport Premium 1','TV 2 Sport Premium 2','TVNorge','FEM','MAX','VOX','Eurosport Norge','TV3','V4','TV6','Matkanalen','Others']]=df[['NRK1','NRK2','NRK3/Super','TV 2','TV 2 Zebra','TV 2 Nyhetskanalen','TV 2 Humor','TV 2 Livsstil','TV 2 Sportskanalen','TV 2 Sport 1','TV 2 Sport 2','TV 2 Sport Premium 1','TV 2 Sport Premium 2','TVNorge','FEM','MAX','VOX','Eurosport Norge','TV3','V4','TV6','Matkanalen','Others']].apply(pd.to_numeric, errors='ignore')\n",
    "df['Sum']=df.loc[:,'NRK1':'Others'].sum(axis=1)\n",
    "\n",
    "dict2=df.copy()\n",
    "dict2.set_index(['Year','AgeGroup'], inplace = True)\n",
    "\n",
    "da18 = dict2.loc[[(2018, \"10-79\")]]\n",
    "da19 = dict2.loc[[(2019, \"10-79\")]]\n",
    "da20 = dict2.loc[[(2020, \"10-79\")]]\n",
    "\n",
    "s18 = dict2.loc[(2018, \"10-79\")][\"Sum\"]\n",
    "s19 = dict2.loc[(2019, \"10-79\")][\"Sum\"]\n",
    "s20 = dict2.loc[(2020, \"10-79\")][\"Sum\"]\n",
    "\n",
    "CH18 = da18.loc[:,\"NRK1\":\"Others\"]\n",
    "CH19 = da19.loc[:,\"NRK1\":\"Others\"]\n",
    "CH20 = da20.loc[:,\"NRK1\":\"Others\"]\n",
    "\n",
    "mshare18 = CH18.div(s18)\n",
    "mshare19 = CH19.div(s19)\n",
    "mshare20 = CH20.div(s20)\n",
    "mshare = pd.concat([mshare18, mshare19, mshare20])\n",
    "\n",
    "display(mshare)\n",
    "display(mshare20[[\"NRK1\"]])\n"
   ]
  },
  {
   "cell_type": "markdown",
   "id": "d57d17ed",
   "metadata": {},
   "source": [
    "### Assignment 2.5 (2 points + possibility for 1 bonus point)\n",
    "\n",
    "Visualize the market shares you calculated in the previous assignment in a bar plot. Rotate the labels by 90 degrees and add a suitable title for the figure.\n",
    "\n",
    "Your plot should be similar to the plot depicted below. Note that the y-axis labels and the grid have been removed in order not to reveal the answer to the previous assignment. Your plot must include the y-axis labels. You might use any order of channels on the x-axis (unless you are attempting to solve the bonus point challenge) as well as any colors representing different years.\n",
    "\n",
    "![](channel_shares.png)\n",
    "\n",
    "Hint: Check out the `hue` parameter of [`sns.barplot`](https://seaborn.pydata.org/generated/seaborn.barplot.html).\n",
    "\n",
    "#### Bonus point challenge (optional)\n",
    "\n",
    "Sort the channels in the figure by their market shares in 2020 (in the descending order) with the exception of *Others*, that must be placed at the end, as shown in the figure above."
   ]
  },
  {
   "cell_type": "code",
   "execution_count": 22,
   "id": "4f7ff340",
   "metadata": {
    "scrolled": true
   },
   "outputs": [
    {
     "data": {
      "text/plain": [
       "<seaborn.axisgrid.FacetGrid at 0x7feb73a04880>"
      ]
     },
     "execution_count": 22,
     "metadata": {},
     "output_type": "execute_result"
    },
    {
     "data": {
      "image/png": "[encoded data removed]",
      "text/plain": [
       "<Figure size 496.1x432 with 1 Axes>"
      ]
     },
     "metadata": {},
     "output_type": "display_data"
    }
   ],
   "source": [
    "# ANSWER CELL 2.5 (DO NOT REMOVE OR CHANGE THIS LINE)\n",
    "import seaborn as sns\n",
    "mshare_r = mshare.reset_index() \n",
    "\n",
    "mshare_m = mshare_r.melt(id_vars=[\"Year\", \"AgeGroup\"],var_name=\"Channel\",value_name=\"mshare\")\n",
    "mshare_m20 = mshare_m[mshare_m[\"Year\"] == 2020]\n",
    "mshare_m20['max'] = mshare_m20.groupby('Channel')['mshare'].transform('max')\n",
    "mshare_m20 = mshare_m20.sort_values([\"max\",\"mshare\"], ascending=False).drop('max', axis=1)\n",
    "mshare_m20_Order = mshare_m20['Channel'].tolist()\n",
    "\n",
    "mshare_m20_Order.remove('Others')\n",
    "mshare_m20_Order.append('Others')\n",
    "\n",
    "mshare_m20_Order\n",
    "sns.set_theme(style=\"whitegrid\")\n",
    "sns.color_palette(\"ch:s=.25,rot=-.25\", as_cmap=True)\n",
    "\n",
    "plot2 = sns.catplot(\n",
    "    data=mshare_m, kind=\"bar\",\n",
    "    x=\"Channel\", y=\"mshare\", hue=\"Year\",\n",
    "    ci=\"sd\", palette=\"Blues\", alpha=.6, height=6,\n",
    "    order=mshare_m20_Order)\n",
    "\n",
    "plot2.despine(left=True)\n",
    "plot2.set_axis_labels(\"Channel\", \"Share\")\n",
    "plot2.set_xticklabels(rotation=90)\n",
    "plot2.set_yticklabels(rotation=90)"
   ]
  },
  {
   "cell_type": "markdown",
   "id": "d27824d1",
   "metadata": {},
   "source": [
    "### Assignment 2.6 (2 points)\n",
    "\n",
    "Calculate the market shares for all media groups for each year and present them in a tabular form using rows for the years and columns for the groups.\n",
    "\n",
    "The dataset with viewing times and the dataset with groups must be merged programmatically; your code must work even if the CSV files contain data for TV channels and media groups from other countries.\n",
    "\n",
    "Remember that some TV channels do not belong to any of the four main media groups in Norway. Use a special group named *Others* for these channels."
   ]
  },
  {
   "cell_type": "code",
   "execution_count": 23,
   "id": "76f5f432",
   "metadata": {},
   "outputs": [
    {
     "name": "stdout",
     "output_type": "stream",
     "text": [
      "Market Share for Each Grooup in Each Year: \n"
     ]
    },
    {
     "data": {
      "text/html": [
       "<div>\n",
       "<style scoped>\n",
       "    .dataframe tbody tr th:only-of-type {\n",
       "        vertical-align: middle;\n",
       "    }\n",
       "\n",
       "    .dataframe tbody tr th {\n",
       "        vertical-align: top;\n",
       "    }\n",
       "\n",
       "    .dataframe thead th {\n",
       "        text-align: right;\n",
       "    }\n",
       "</style>\n",
       "<table border=\"1\" class=\"dataframe\">\n",
       "  <thead>\n",
       "    <tr style=\"text-align: right;\">\n",
       "      <th>Group</th>\n",
       "      <th>TV 2</th>\n",
       "      <th>Others</th>\n",
       "      <th>NRK</th>\n",
       "      <th>NENT</th>\n",
       "      <th>Discovery</th>\n",
       "    </tr>\n",
       "  </thead>\n",
       "  <tbody>\n",
       "    <tr>\n",
       "      <th>Y2018</th>\n",
       "      <td>0.265733</td>\n",
       "      <td>0.122876</td>\n",
       "      <td>0.378697</td>\n",
       "      <td>0.073867</td>\n",
       "      <td>0.158826</td>\n",
       "    </tr>\n",
       "    <tr>\n",
       "      <th>Y2019</th>\n",
       "      <td>0.282304</td>\n",
       "      <td>0.111073</td>\n",
       "      <td>0.394404</td>\n",
       "      <td>0.076074</td>\n",
       "      <td>0.136146</td>\n",
       "    </tr>\n",
       "    <tr>\n",
       "      <th>Y2020</th>\n",
       "      <td>0.258229</td>\n",
       "      <td>0.116135</td>\n",
       "      <td>0.427469</td>\n",
       "      <td>0.071089</td>\n",
       "      <td>0.127078</td>\n",
       "    </tr>\n",
       "  </tbody>\n",
       "</table>\n",
       "</div>"
      ],
      "text/plain": [
       "Group      TV 2    Others       NRK      NENT Discovery\n",
       "Y2018  0.265733  0.122876  0.378697  0.073867  0.158826\n",
       "Y2019  0.282304  0.111073  0.394404  0.076074  0.136146\n",
       "Y2020  0.258229  0.116135  0.427469  0.071089  0.127078"
      ]
     },
     "metadata": {},
     "output_type": "display_data"
    }
   ],
   "source": [
    "# ANSWER CELL 2.6 (DO NOT REMOVE OR CHANGE THIS LINE)\n",
    "\n",
    "mgdf= pd.read_csv(\"media_groups.csv\", delimiter=\";\")\n",
    "mgdf = mgdf.T\n",
    "mgdf.columns = mgdf.iloc[0]\n",
    "mgdf = mgdf.drop([\"Channel\"], axis=\"index\")\n",
    "mgdf.index.names = [\"Group\"]\n",
    "#display(media_groups_df)\n",
    "\n",
    "group_share_df = pd.concat([mgdf, mshare])\n",
    "#display(group_share_df)\n",
    "group_share_df = group_share_df.fillna(\"Others\")\n",
    "\n",
    "group_share_df= group_share_df.T\n",
    "#display(group_share_df)\n",
    "\n",
    "group_share_df.columns = [\"Group\", \"2018\", \"2019\", \"2020\"]\n",
    "\n",
    "final_group_table = group_share_df.groupby(\"Group\") \\\n",
    "    .agg(Y2018=(\"2018\", \"sum\"), Y2019=(\"2019\", \"sum\"), Y2020=(\"2020\", \"sum\")) \\\n",
    "    .sort_values(\"Group\", ascending=False)\n",
    "\n",
    "final_group_table= final_group_table.T\n",
    "print(\"Market Share for Each Grooup in Each Year: \")\n",
    "display(final_group_table)"
   ]
  }
 ],
 "metadata": {
  "kernelspec": {
   "display_name": "base",
   "language": "python",
   "name": "python3"
  },
  "language_info": {
   "codemirror_mode": {
    "name": "ipython",
    "version": 3
   },
   "file_extension": ".py",
   "mimetype": "text/x-python",
   "name": "python",
   "nbconvert_exporter": "python",
   "pygments_lexer": "ipython3",
   "version": "3.9.12"
  },
  "vscode": {
   "interpreter": {
    "hash": "40d3a090f54c6569ab1632332b64b2c03c39dcf918b08424e98f38b5ae0af88f"
   }
  }
 },
 "nbformat": 4,
 "nbformat_minor": 5
}
