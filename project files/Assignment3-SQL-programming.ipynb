{
 "cells": [
  {
   "attachments": {},
   "cell_type": "markdown",
   "id": "f4beffc1",
   "metadata": {},
   "source": [
    "## 3. SQL\n",
    "\n",
    "In this section you are going to use a small database for a digital media store. You can access the database in three different ways, it is completely up to you which one you choose:\n",
    "\n",
    "1. You can use the `isqlite3` extension and execute SQL in the notebook.\n",
    "2. You can use any software that works with SQLite3 databases (the SQLite3 database is stored in `assignment3.db`), but only to execute SQL written by you. You are **NOT** allowed to use any wizards or other graphical user interface to prepare SQL statements.\n",
    "\n",
    "If you choose the first or third option, **remember to copy and paste your solutions in the corresponding answer cells in this notebook!**\n",
    "\n",
    "The database schema is shown below and the CREATE TABLE statements can be found in Appendix A.\n",
    "\n",
    "![](database.svg)"
   ]
  },
  {
   "cell_type": "code",
   "execution_count": 1,
   "id": "e92bff17",
   "metadata": {},
   "outputs": [
    {
     "name": "stdout",
     "output_type": "stream",
     "text": [
      "Done!\n",
      "Done!\n"
     ]
    }
   ],
   "source": [
    "%load_ext isqlite3\n",
    "%sql_open assignment3.db"
   ]
  },
  {
   "cell_type": "markdown",
   "id": "171ab1e7",
   "metadata": {},
   "source": [
    "### Assignment 3.1 (2 points)"
   ]
  },
  {
   "cell_type": "markdown",
   "id": "b53e216a",
   "metadata": {},
   "source": [
    "Write an SQL query to return all customers from USA.\n",
    "\n",
    "Sort the result set by the last name and then by the first name.\n",
    "\n",
    "Columns in the result set: all columns in the relevant table."
   ]
  },
  {
   "cell_type": "code",
   "execution_count": 2,
   "id": "7851d9a6",
   "metadata": {},
   "outputs": [
    {
     "data": {
      "text/html": [
       "<table><thead><tr><th style=\"text-align: left\">CustomerId</th><th style=\"text-align: left\">FirstName</th><th style=\"text-align: left\">LastName</th><th style=\"text-align: left\">Company</th><th style=\"text-align: left\">Address</th><th style=\"text-align: left\">City</th><th style=\"text-align: left\">State</th><th style=\"text-align: left\">Country</th><th style=\"text-align: left\">PostalCode</th><th style=\"text-align: left\">Phone</th><th style=\"text-align: left\">Fax</th><th style=\"text-align: left\">Email</th><th style=\"text-align: left\">SupportRepId</th></tr></thead><tbody><tr><td style=\"text-align: right\">28</td><td style=\"text-align: left\">Julia</td><td style=\"text-align: left\">Barnett</td><td></td><td style=\"text-align: left\">302 S 700 E</td><td style=\"text-align: left\">Salt Lake City</td><td style=\"text-align: left\">UT</td><td style=\"text-align: left\">USA</td><td style=\"text-align: left\">84102</td><td style=\"text-align: left\">+1 (801) 531-7272</td><td></td><td style=\"text-align: left\">jubarnett@gmail.com</td><td style=\"text-align: right\">5</td></tr><tr><td style=\"text-align: right\">18</td><td style=\"text-align: left\">Michelle</td><td style=\"text-align: left\">Brooks</td><td></td><td style=\"text-align: left\">627 Broadway</td><td style=\"text-align: left\">New York</td><td style=\"text-align: left\">NY</td><td style=\"text-align: left\">USA</td><td style=\"text-align: left\">10012-2612</td><td style=\"text-align: left\">+1 (212) 221-3546</td><td style=\"text-align: left\">+1 (212) 221-4679</td><td style=\"text-align: left\">michelleb@aol.com</td><td style=\"text-align: right\">3</td></tr><tr><td style=\"text-align: right\">21</td><td style=\"text-align: left\">Kathy</td><td style=\"text-align: left\">Chase</td><td></td><td style=\"text-align: left\">801 W 4th Street</td><td style=\"text-align: left\">Reno</td><td style=\"text-align: left\">NV</td><td style=\"text-align: left\">USA</td><td style=\"text-align: left\">89503</td><td style=\"text-align: left\">+1 (775) 223-7665</td><td></td><td style=\"text-align: left\">kachase@hotmail.com</td><td style=\"text-align: right\">5</td></tr><tr><td style=\"text-align: right\">26</td><td style=\"text-align: left\">Richard</td><td style=\"text-align: left\">Cunningham</td><td></td><td style=\"text-align: left\">2211 W Berry Street</td><td style=\"text-align: left\">Fort Worth</td><td style=\"text-align: left\">TX</td><td style=\"text-align: left\">USA</td><td style=\"text-align: left\">76110</td><td style=\"text-align: left\">+1 (817) 924-7272</td><td></td><td style=\"text-align: left\">ricunningham@hotmail.com</td><td style=\"text-align: right\">4</td></tr><tr><td style=\"text-align: right\">23</td><td style=\"text-align: left\">John</td><td style=\"text-align: left\">Gordon</td><td></td><td style=\"text-align: left\">69 Salem Street</td><td style=\"text-align: left\">Boston</td><td style=\"text-align: left\">MA</td><td style=\"text-align: left\">USA</td><td style=\"text-align: left\">2113</td><td style=\"text-align: left\">+1 (617) 522-1333</td><td></td><td style=\"text-align: left\">johngordon22@yahoo.com</td><td style=\"text-align: right\">4</td></tr><tr><td style=\"text-align: right\">19</td><td style=\"text-align: left\">Tim</td><td style=\"text-align: left\">Goyer</td><td style=\"text-align: left\">Apple Inc.</td><td style=\"text-align: left\">1 Infinite Loop</td><td style=\"text-align: left\">Cupertino</td><td style=\"text-align: left\">CA</td><td style=\"text-align: left\">USA</td><td style=\"text-align: left\">95014</td><td style=\"text-align: left\">+1 (408) 996-1010</td><td style=\"text-align: left\">+1 (408) 996-1011</td><td style=\"text-align: left\">tgoyer@apple.com</td><td style=\"text-align: right\">3</td></tr><tr><td style=\"text-align: right\">27</td><td style=\"text-align: left\">Patrick</td><td style=\"text-align: left\">Gray</td><td></td><td style=\"text-align: left\">1033 N Park Ave</td><td style=\"text-align: left\">Tucson</td><td style=\"text-align: left\">AZ</td><td style=\"text-align: left\">USA</td><td style=\"text-align: left\">85719</td><td style=\"text-align: left\">+1 (520) 622-4200</td><td></td><td style=\"text-align: left\">patrick.gray@aol.com</td><td style=\"text-align: right\">4</td></tr><tr><td style=\"text-align: right\">16</td><td style=\"text-align: left\">Frank</td><td style=\"text-align: left\">Harris</td><td style=\"text-align: left\">Google Inc.</td><td style=\"text-align: left\">1600 Amphitheatre Parkway</td><td style=\"text-align: left\">Mountain View</td><td style=\"text-align: left\">CA</td><td style=\"text-align: left\">USA</td><td style=\"text-align: left\">94043-1351</td><td style=\"text-align: left\">+1 (650) 253-0000</td><td style=\"text-align: left\">+1 (650) 253-0000</td><td style=\"text-align: left\">fharris@google.com</td><td style=\"text-align: right\">4</td></tr><tr><td style=\"text-align: right\">22</td><td style=\"text-align: left\">Heather</td><td style=\"text-align: left\">Leacock</td><td></td><td style=\"text-align: left\">120 S Orange Ave</td><td style=\"text-align: left\">Orlando</td><td style=\"text-align: left\">FL</td><td style=\"text-align: left\">USA</td><td style=\"text-align: left\">32801</td><td style=\"text-align: left\">+1 (407) 999-7788</td><td></td><td style=\"text-align: left\">hleacock@gmail.com</td><td style=\"text-align: right\">4</td></tr><tr><td style=\"text-align: right\">20</td><td style=\"text-align: left\">Dan</td><td style=\"text-align: left\">Miller</td><td></td><td style=\"text-align: left\">541 Del Medio Avenue</td><td style=\"text-align: left\">Mountain View</td><td style=\"text-align: left\">CA</td><td style=\"text-align: left\">USA</td><td style=\"text-align: left\">94040-111</td><td style=\"text-align: left\">+1 (650) 644-3358</td><td></td><td style=\"text-align: left\">dmiller@comcast.com</td><td style=\"text-align: right\">4</td></tr><tr><td style=\"text-align: right\">24</td><td style=\"text-align: left\">Frank</td><td style=\"text-align: left\">Ralston</td><td></td><td style=\"text-align: left\">162 E Superior Street</td><td style=\"text-align: left\">Chicago</td><td style=\"text-align: left\">IL</td><td style=\"text-align: left\">USA</td><td style=\"text-align: left\">60611</td><td style=\"text-align: left\">+1 (312) 332-3232</td><td></td><td style=\"text-align: left\">fralston@gmail.com</td><td style=\"text-align: right\">3</td></tr><tr><td style=\"text-align: right\">17</td><td style=\"text-align: left\">Jack</td><td style=\"text-align: left\">Smith</td><td style=\"text-align: left\">Microsoft Corporation</td><td style=\"text-align: left\">1 Microsoft Way</td><td style=\"text-align: left\">Redmond</td><td style=\"text-align: left\">WA</td><td style=\"text-align: left\">USA</td><td style=\"text-align: left\">98052-8300</td><td style=\"text-align: left\">+1 (425) 882-8080</td><td style=\"text-align: left\">+1 (425) 882-8081</td><td style=\"text-align: left\">jacksmith@microsoft.com</td><td style=\"text-align: right\">5</td></tr><tr><td style=\"text-align: right\">25</td><td style=\"text-align: left\">Victor</td><td style=\"text-align: left\">Stevens</td><td></td><td style=\"text-align: left\">319 N. Frances Street</td><td style=\"text-align: left\">Madison</td><td style=\"text-align: left\">WI</td><td style=\"text-align: left\">USA</td><td style=\"text-align: left\">53703</td><td style=\"text-align: left\">+1 (608) 257-0597</td><td></td><td style=\"text-align: left\">vstevens@yahoo.com</td><td style=\"text-align: right\">5</td></tr></tbody></table>"
      ],
      "text/plain": [
       "<IPython.core.display.HTML object>"
      ]
     },
     "execution_count": 2,
     "metadata": {},
     "output_type": "execute_result"
    }
   ],
   "source": [
    "%%sql ANSWER CELL 3.1 (DO NOT REMOVE OR CHANGE THIS LINE)\n",
    "\n",
    "select * from Customer where Country is 'USA' order by LastName, FirstName"
   ]
  },
  {
   "cell_type": "markdown",
   "id": "0538fd5f",
   "metadata": {},
   "source": [
    "### Assignment 3.2 (2 points)"
   ]
  },
  {
   "cell_type": "markdown",
   "id": "98b47022",
   "metadata": {},
   "source": [
    "Write an SQL query to return the number of how many artists have their name starting with `A`. (Only consider `A` at the beginning of the whole name, e.g. *Alice in Chains* is one of these artists, but *Pedro Luis & A Parede* is not.)"
   ]
  },
  {
   "cell_type": "code",
   "execution_count": 3,
   "id": "9a9d1e1d",
   "metadata": {},
   "outputs": [
    {
     "data": {
      "text/html": [
       "<table><thead><tr><th style=\"text-align: left\">No. of Artists name starting with &quot;A&quot; </th></tr></thead><tbody><tr><td style=\"text-align: right\">26</td></tr></tbody></table>"
      ],
      "text/plain": [
       "<IPython.core.display.HTML object>"
      ]
     },
     "execution_count": 3,
     "metadata": {},
     "output_type": "execute_result"
    }
   ],
   "source": [
    "%%sql ANSWER CELL 3.2 (DO NOT REMOVE OR CHANGE THIS LINE)\n",
    "\n",
    "select count(*) as 'No. of Artists name starting with \"A\" ' \n",
    "from Artist \n",
    "where Name like 'A%'"
   ]
  },
  {
   "cell_type": "markdown",
   "id": "99a36ee2",
   "metadata": {},
   "source": [
    "### Assignment 3.3 (2 points)"
   ]
  },
  {
   "cell_type": "markdown",
   "id": "d2f71ffd",
   "metadata": {},
   "source": [
    "Write an SQL query to return the title of all albums together with the artist's name.\n",
    "\n",
    "Sort the result set by the artist's name first, then by the album's title.\n",
    "\n",
    "Columns in the result set: artist's name, album's title."
   ]
  },
  {
   "cell_type": "code",
   "execution_count": 4,
   "id": "89ed3bef",
   "metadata": {},
   "outputs": [
    {
     "name": "stdout",
     "output_type": "stream",
     "text": [
      "Showing only the first 100 rows\n"
     ]
    },
    {
     "data": {
      "text/html": [
       "<table><thead><tr><th style=\"text-align: left\">Artist&#x27;s Name</th><th style=\"text-align: left\">Album&#x27;s Title</th></tr></thead><tbody><tr><td style=\"text-align: left\">AC/DC</td><td style=\"text-align: left\">For Those About To Rock We Salute You</td></tr><tr><td style=\"text-align: left\">Accept</td><td style=\"text-align: left\">Balls to the Wall</td></tr><tr><td style=\"text-align: left\">Accept</td><td style=\"text-align: left\">Restless and Wild</td></tr><tr><td style=\"text-align: left\">AC/DC</td><td style=\"text-align: left\">Let There Be Rock</td></tr><tr><td style=\"text-align: left\">Aerosmith</td><td style=\"text-align: left\">Big Ones</td></tr><tr><td style=\"text-align: left\">Alanis Morissette</td><td style=\"text-align: left\">Jagged Little Pill</td></tr><tr><td style=\"text-align: left\">Alice In Chains</td><td style=\"text-align: left\">Facelift</td></tr><tr><td style=\"text-align: left\">Antônio Carlos Jobim</td><td style=\"text-align: left\">Warner 25 Anos</td></tr><tr><td style=\"text-align: left\">Apocalyptica</td><td style=\"text-align: left\">Plays Metallica By Four Cellos</td></tr><tr><td style=\"text-align: left\">Audioslave</td><td style=\"text-align: left\">Audioslave</td></tr><tr><td style=\"text-align: left\">Audioslave</td><td style=\"text-align: left\">Out Of Exile</td></tr><tr><td style=\"text-align: left\">BackBeat</td><td style=\"text-align: left\">BackBeat Soundtrack</td></tr><tr><td style=\"text-align: left\">Billy Cobham</td><td style=\"text-align: left\">The Best Of Billy Cobham</td></tr><tr><td style=\"text-align: left\">Black Label Society</td><td style=\"text-align: left\">Alcohol Fueled Brewtality Live! [Disc 1]</td></tr><tr><td style=\"text-align: left\">Black Label Society</td><td style=\"text-align: left\">Alcohol Fueled Brewtality Live! [Disc 2]</td></tr><tr><td style=\"text-align: left\">Black Sabbath</td><td style=\"text-align: left\">Black Sabbath</td></tr><tr><td style=\"text-align: left\">Black Sabbath</td><td style=\"text-align: left\">Black Sabbath Vol. 4 (Remaster)</td></tr><tr><td style=\"text-align: left\">Body Count</td><td style=\"text-align: left\">Body Count</td></tr><tr><td style=\"text-align: left\">Bruce Dickinson</td><td style=\"text-align: left\">Chemical Wedding</td></tr><tr><td style=\"text-align: left\">Buddy Guy</td><td style=\"text-align: left\">The Best Of Buddy Guy - The Millenium Collection</td></tr><tr><td style=\"text-align: left\">Caetano Veloso</td><td style=\"text-align: left\">Prenda Minha</td></tr><tr><td style=\"text-align: left\">Caetano Veloso</td><td style=\"text-align: left\">Sozinho Remix Ao Vivo</td></tr><tr><td style=\"text-align: left\">Chico Buarque</td><td style=\"text-align: left\">Minha Historia</td></tr><tr><td style=\"text-align: left\">Chico Science &amp; Nação Zumbi</td><td style=\"text-align: left\">Afrociberdelia</td></tr><tr><td style=\"text-align: left\">Chico Science &amp; Nação Zumbi</td><td style=\"text-align: left\">Da Lama Ao Caos</td></tr><tr><td style=\"text-align: left\">Cidade Negra</td><td style=\"text-align: left\">Acústico MTV [Live]</td></tr><tr><td style=\"text-align: left\">Cidade Negra</td><td style=\"text-align: left\">Cidade Negra - Hits</td></tr><tr><td style=\"text-align: left\">Cláudio Zoli</td><td style=\"text-align: left\">Na Pista</td></tr><tr><td style=\"text-align: left\">Various Artists</td><td style=\"text-align: left\">Axé Bahia 2001</td></tr><tr><td style=\"text-align: left\">Led Zeppelin</td><td style=\"text-align: left\">BBC Sessions [Disc 1] [Live]</td></tr><tr><td style=\"text-align: left\">Frank Zappa &amp; Captain Beefheart</td><td style=\"text-align: left\">Bongo Fury</td></tr><tr><td style=\"text-align: left\">Various Artists</td><td style=\"text-align: left\">Carnaval 2001</td></tr><tr><td style=\"text-align: left\">Marcos Valle</td><td style=\"text-align: left\">Chill: Brazil (Disc 1)</td></tr><tr><td style=\"text-align: left\">Antônio Carlos Jobim</td><td style=\"text-align: left\">Chill: Brazil (Disc 2)</td></tr><tr><td style=\"text-align: left\">Metallica</td><td style=\"text-align: left\">Garage Inc. (Disc 1)</td></tr><tr><td style=\"text-align: left\">Queen</td><td style=\"text-align: left\">Greatest Hits II</td></tr><tr><td style=\"text-align: left\">Kiss</td><td style=\"text-align: left\">Greatest Kiss</td></tr><tr><td style=\"text-align: left\">Spyro Gyra</td><td style=\"text-align: left\">Heart of the Night</td></tr><tr><td style=\"text-align: left\">Green Day</td><td style=\"text-align: left\">International Superhits</td></tr><tr><td style=\"text-align: left\">David Coverdale</td><td style=\"text-align: left\">Into The Light</td></tr><tr><td style=\"text-align: left\">Gonzaguinha</td><td style=\"text-align: left\">Meus Momentos</td></tr><tr><td style=\"text-align: left\">Os Mutantes</td><td style=\"text-align: left\">Minha História</td></tr><tr><td style=\"text-align: left\">Deep Purple</td><td style=\"text-align: left\">MK III The Final Concerts [Disc 1]</td></tr><tr><td style=\"text-align: left\">Led Zeppelin</td><td style=\"text-align: left\">Physical Graffiti [Disc 1]</td></tr><tr><td style=\"text-align: left\">Various Artists</td><td style=\"text-align: left\">Sambas De Enredo 2001</td></tr><tr><td style=\"text-align: left\">Santana</td><td style=\"text-align: left\">Supernatural</td></tr><tr><td style=\"text-align: left\">Ed Motta</td><td style=\"text-align: left\">The Best of Ed Motta</td></tr><tr><td style=\"text-align: left\">Miles Davis</td><td style=\"text-align: left\">The Essential Miles Davis [Disc 1]</td></tr><tr><td style=\"text-align: left\">Miles Davis</td><td style=\"text-align: left\">The Essential Miles Davis [Disc 2]</td></tr><tr><td style=\"text-align: left\">Deep Purple</td><td style=\"text-align: left\">The Final Concerts (Disc 2)</td></tr><tr><td style=\"text-align: left\">Gene Krupa</td><td style=\"text-align: left\">Up An&#x27; Atom</td></tr><tr><td style=\"text-align: left\">Toquinho &amp; Vinícius</td><td style=\"text-align: left\">Vinícius De Moraes - Sem Limite</td></tr><tr><td style=\"text-align: left\">Various Artists</td><td style=\"text-align: left\">Vozes do MPB</td></tr><tr><td style=\"text-align: left\">Creedence Clearwater Revival</td><td style=\"text-align: left\">Chronicle, Vol. 1</td></tr><tr><td style=\"text-align: left\">Creedence Clearwater Revival</td><td style=\"text-align: left\">Chronicle, Vol. 2</td></tr><tr><td style=\"text-align: left\">Cássia Eller</td><td style=\"text-align: left\">Cássia Eller - Coleção Sem Limite [Disc 2]</td></tr><tr><td style=\"text-align: left\">Cássia Eller</td><td style=\"text-align: left\">Cássia Eller - Sem Limite [Disc 1]</td></tr><tr><td style=\"text-align: left\">Deep Purple</td><td style=\"text-align: left\">Come Taste The Band</td></tr><tr><td style=\"text-align: left\">Deep Purple</td><td style=\"text-align: left\">Deep Purple In Rock</td></tr><tr><td style=\"text-align: left\">Deep Purple</td><td style=\"text-align: left\">Fireball</td></tr><tr><td style=\"text-align: left\">Deep Purple</td><td style=\"text-align: left\">Knocking at Your Back Door: The Best Of Deep Purple in the 80&#x27;s</td></tr><tr><td style=\"text-align: left\">Deep Purple</td><td style=\"text-align: left\">Machine Head</td></tr><tr><td style=\"text-align: left\">Deep Purple</td><td style=\"text-align: left\">Purpendicular</td></tr><tr><td style=\"text-align: left\">Deep Purple</td><td style=\"text-align: left\">Slaves And Masters</td></tr><tr><td style=\"text-align: left\">Deep Purple</td><td style=\"text-align: left\">Stormbringer</td></tr><tr><td style=\"text-align: left\">Deep Purple</td><td style=\"text-align: left\">The Battle Rages On</td></tr><tr><td style=\"text-align: left\">Def Leppard</td><td style=\"text-align: left\">Vault: Def Leppard&#x27;s Greatest Hits</td></tr><tr><td style=\"text-align: left\">Dennis Chambers</td><td style=\"text-align: left\">Outbreak</td></tr><tr><td style=\"text-align: left\">Djavan</td><td style=\"text-align: left\">Djavan Ao Vivo - Vol. 02</td></tr><tr><td style=\"text-align: left\">Djavan</td><td style=\"text-align: left\">Djavan Ao Vivo - Vol. 1</td></tr><tr><td style=\"text-align: left\">Elis Regina</td><td style=\"text-align: left\">Elis Regina-Minha História</td></tr><tr><td style=\"text-align: left\">Eric Clapton</td><td style=\"text-align: left\">The Cream Of Clapton</td></tr><tr><td style=\"text-align: left\">Eric Clapton</td><td style=\"text-align: left\">Unplugged</td></tr><tr><td style=\"text-align: left\">Faith No More</td><td style=\"text-align: left\">Album Of The Year</td></tr><tr><td style=\"text-align: left\">Faith No More</td><td style=\"text-align: left\">Angel Dust</td></tr><tr><td style=\"text-align: left\">Faith No More</td><td style=\"text-align: left\">King For A Day Fool For A Lifetime</td></tr><tr><td style=\"text-align: left\">Faith No More</td><td style=\"text-align: left\">The Real Thing</td></tr><tr><td style=\"text-align: left\">Falamansa</td><td style=\"text-align: left\">Deixa Entrar</td></tr><tr><td style=\"text-align: left\">Foo Fighters</td><td style=\"text-align: left\">In Your Honor [Disc 1]</td></tr><tr><td style=\"text-align: left\">Foo Fighters</td><td style=\"text-align: left\">In Your Honor [Disc 2]</td></tr><tr><td style=\"text-align: left\">Foo Fighters</td><td style=\"text-align: left\">One By One</td></tr><tr><td style=\"text-align: left\">Foo Fighters</td><td style=\"text-align: left\">The Colour And The Shape</td></tr><tr><td style=\"text-align: left\">Frank Sinatra</td><td style=\"text-align: left\">My Way: The Best Of Frank Sinatra [Disc 1]</td></tr><tr><td style=\"text-align: left\">Funk Como Le Gusta</td><td style=\"text-align: left\">Roda De Funk</td></tr><tr><td style=\"text-align: left\">Gilberto Gil</td><td style=\"text-align: left\">As Canções de Eu Tu Eles</td></tr><tr><td style=\"text-align: left\">Gilberto Gil</td><td style=\"text-align: left\">Quanta Gente Veio Ver (Live)</td></tr><tr><td style=\"text-align: left\">Gilberto Gil</td><td style=\"text-align: left\">Quanta Gente Veio ver--Bônus De Carnaval</td></tr><tr><td style=\"text-align: left\">Godsmack</td><td style=\"text-align: left\">Faceless</td></tr><tr><td style=\"text-align: left\">Green Day</td><td style=\"text-align: left\">American Idiot</td></tr><tr><td style=\"text-align: left\">Guns N&#x27; Roses</td><td style=\"text-align: left\">Appetite for Destruction</td></tr><tr><td style=\"text-align: left\">Guns N&#x27; Roses</td><td style=\"text-align: left\">Use Your Illusion I</td></tr><tr><td style=\"text-align: left\">Guns N&#x27; Roses</td><td style=\"text-align: left\">Use Your Illusion II</td></tr><tr><td style=\"text-align: left\">Incognito</td><td style=\"text-align: left\">Blue Moods</td></tr><tr><td style=\"text-align: left\">Iron Maiden</td><td style=\"text-align: left\">A Matter of Life and Death</td></tr><tr><td style=\"text-align: left\">Iron Maiden</td><td style=\"text-align: left\">A Real Dead One</td></tr><tr><td style=\"text-align: left\">Iron Maiden</td><td style=\"text-align: left\">A Real Live One</td></tr><tr><td style=\"text-align: left\">Iron Maiden</td><td style=\"text-align: left\">Brave New World</td></tr><tr><td style=\"text-align: left\">Iron Maiden</td><td style=\"text-align: left\">Dance Of Death</td></tr><tr><td style=\"text-align: left\">Iron Maiden</td><td style=\"text-align: left\">Fear Of The Dark</td></tr><tr><td style=\"text-align: left\">Iron Maiden</td><td style=\"text-align: left\">Iron Maiden</td></tr></tbody></table>"
      ],
      "text/plain": [
       "<IPython.core.display.HTML object>"
      ]
     },
     "execution_count": 4,
     "metadata": {},
     "output_type": "execute_result"
    }
   ],
   "source": [
    "%%sql ANSWER CELL 3.3 (DO NOT REMOVE OR CHANGE THIS LINE)\n",
    "\n",
    "select ar.Name as \"Artist's Name\", al.Title as \"Album's Title\" \n",
    "from Album as al join Artist as ar on al.ArtistId = ar.ArtistId"
   ]
  },
  {
   "cell_type": "markdown",
   "id": "fe7c02d8",
   "metadata": {},
   "source": [
    "### Assignment 3.4 (2 points + possibility for 1 bonus point)"
   ]
  },
  {
   "cell_type": "markdown",
   "id": "d4146686",
   "metadata": {},
   "source": [
    "Write an SQL query to return the last name and the title of all employees, together with the last name and the title of their supervisor (i.e. the person they report to).\n",
    "\n",
    "The list must include all employees, also those that do not have any supervisor.\n",
    "\n",
    "Columns in the result set: employee's last name, employee's title, supervisor's last name, supervisor's first name.\n",
    "\n",
    "#### Bonus point challenge\n",
    "\n",
    "Add another column in the result set that shows employees' depth in the organizational hierarchy. Employees that do not have any supervisor are at level 1, employees reporting to them are at level 2, etc."
   ]
  },
  {
   "cell_type": "code",
   "execution_count": 5,
   "id": "95975526",
   "metadata": {},
   "outputs": [
    {
     "data": {
      "text/html": [
       "<table><thead><tr><th style=\"text-align: left\">Employee Last Name</th><th style=\"text-align: left\">Employee Title</th><th style=\"text-align: left\">Supervisor lastName</th><th style=\"text-align: left\">Supervisor Firstname</th></tr></thead><tbody><tr><td style=\"text-align: left\">Adams</td><td style=\"text-align: left\">General Manager</td><td></td><td></td></tr><tr><td style=\"text-align: left\">Edwards</td><td style=\"text-align: left\">Sales Manager</td><td style=\"text-align: left\">Adams</td><td style=\"text-align: left\">Andrew</td></tr><tr><td style=\"text-align: left\">Peacock</td><td style=\"text-align: left\">Sales Support Agent</td><td style=\"text-align: left\">Edwards</td><td style=\"text-align: left\">Nancy</td></tr><tr><td style=\"text-align: left\">Park</td><td style=\"text-align: left\">Sales Support Agent</td><td style=\"text-align: left\">Edwards</td><td style=\"text-align: left\">Nancy</td></tr><tr><td style=\"text-align: left\">Johnson</td><td style=\"text-align: left\">Sales Support Agent</td><td style=\"text-align: left\">Edwards</td><td style=\"text-align: left\">Nancy</td></tr><tr><td style=\"text-align: left\">Mitchell</td><td style=\"text-align: left\">IT Manager</td><td style=\"text-align: left\">Adams</td><td style=\"text-align: left\">Andrew</td></tr><tr><td style=\"text-align: left\">King</td><td style=\"text-align: left\">IT Staff</td><td style=\"text-align: left\">Mitchell</td><td style=\"text-align: left\">Michael</td></tr><tr><td style=\"text-align: left\">Callahan</td><td style=\"text-align: left\">IT Staff</td><td style=\"text-align: left\">Mitchell</td><td style=\"text-align: left\">Michael</td></tr></tbody></table>"
      ],
      "text/plain": [
       "<IPython.core.display.HTML object>"
      ]
     },
     "execution_count": 5,
     "metadata": {},
     "output_type": "execute_result"
    }
   ],
   "source": [
    "%%sql ANSWER CELL 3.4 (DO NOT REMOVE OR CHANGE THIS LINE)\n",
    "\n",
    "select e.Lastname as \"Employee Last Name\", e.Title as \"Employee Title\", s.Lastname as \"Supervisor lastName\",s.FirstName as \"Supervisor Firstname\"\n",
    "from Employee as e left join Employee as s on e.ReportsTo = s.EmployeeId"
   ]
  },
  {
   "cell_type": "markdown",
   "id": "c7b1b2a2",
   "metadata": {},
   "source": [
    "### Assignment 3.5 (2 points)"
   ]
  },
  {
   "cell_type": "markdown",
   "id": "651f3167",
   "metadata": {},
   "source": [
    "Write an SQL query to return the ID, the last name and the title of all employees that do not support any customers.\n",
    "\n",
    "Return the following columns in the result set: employee ID, last name, title."
   ]
  },
  {
   "cell_type": "code",
   "execution_count": 6,
   "id": "f2d9cbff",
   "metadata": {},
   "outputs": [
    {
     "data": {
      "text/html": [
       "<table><thead><tr><th style=\"text-align: left\">EmployeeId</th><th style=\"text-align: left\">LastName</th><th style=\"text-align: left\">Title</th></tr></thead><tbody><tr><td style=\"text-align: right\">1</td><td style=\"text-align: left\">Adams</td><td style=\"text-align: left\">General Manager</td></tr><tr><td style=\"text-align: right\">2</td><td style=\"text-align: left\">Edwards</td><td style=\"text-align: left\">Sales Manager</td></tr><tr><td style=\"text-align: right\">6</td><td style=\"text-align: left\">Mitchell</td><td style=\"text-align: left\">IT Manager</td></tr><tr><td style=\"text-align: right\">7</td><td style=\"text-align: left\">King</td><td style=\"text-align: left\">IT Staff</td></tr><tr><td style=\"text-align: right\">8</td><td style=\"text-align: left\">Callahan</td><td style=\"text-align: left\">IT Staff</td></tr></tbody></table>"
      ],
      "text/plain": [
       "<IPython.core.display.HTML object>"
      ]
     },
     "execution_count": 6,
     "metadata": {},
     "output_type": "execute_result"
    }
   ],
   "source": [
    "%%sql ANSWER CELL 3.5 (DO NOT REMOVE OR CHANGE THIS LINE)\n",
    "\n",
    "select e.EmployeeId,e.LastName,e.Title from Employee as e left join Customer as c on c.SupportRepId = e.EmployeeId\n",
    "where e.EmployeeId NOT in (select SupportRepId from Customer)"
   ]
  },
  {
   "cell_type": "markdown",
   "id": "c6c13f49",
   "metadata": {},
   "source": [
    "### Assignment 3.6 (2 points)"
   ]
  },
  {
   "cell_type": "markdown",
   "id": "da57ec82",
   "metadata": {},
   "source": [
    "Write an SQL query to return the ID, the first and last name of all customers that have purchased at least one track in the store, together with the total amount they have spent (for all their purchases). \n",
    "\n",
    "Columns in the result set: customer ID, first name, last name, total amount."
   ]
  },
  {
   "cell_type": "code",
   "execution_count": 7,
   "id": "6af5b257",
   "metadata": {},
   "outputs": [
    {
     "data": {
      "text/html": [
       "<table><thead><tr><th style=\"text-align: left\">CusotmerID</th><th style=\"text-align: left\">FirstName</th><th style=\"text-align: left\">LastName</th><th style=\"text-align: left\">Total Amount</th></tr></thead><tbody><tr><td style=\"text-align: right\">1</td><td style=\"text-align: left\">Luís</td><td style=\"text-align: left\">Gonçalves</td><td style=\"text-align: right\">39.62</td></tr><tr><td style=\"text-align: right\">2</td><td style=\"text-align: left\">Leonie</td><td style=\"text-align: left\">Köhler</td><td style=\"text-align: right\">37.620000000000005</td></tr><tr><td style=\"text-align: right\">3</td><td style=\"text-align: left\">François</td><td style=\"text-align: left\">Tremblay</td><td style=\"text-align: right\">39.62</td></tr><tr><td style=\"text-align: right\">4</td><td style=\"text-align: left\">Bjørn</td><td style=\"text-align: left\">Hansen</td><td style=\"text-align: right\">39.62</td></tr><tr><td style=\"text-align: right\">5</td><td style=\"text-align: left\">František</td><td style=\"text-align: left\">Wichterlová</td><td style=\"text-align: right\">40.620000000000005</td></tr><tr><td style=\"text-align: right\">6</td><td style=\"text-align: left\">Helena</td><td style=\"text-align: left\">Holý</td><td style=\"text-align: right\">49.620000000000005</td></tr><tr><td style=\"text-align: right\">7</td><td style=\"text-align: left\">Astrid</td><td style=\"text-align: left\">Gruber</td><td style=\"text-align: right\">42.62</td></tr><tr><td style=\"text-align: right\">8</td><td style=\"text-align: left\">Daan</td><td style=\"text-align: left\">Peeters</td><td style=\"text-align: right\">37.62</td></tr><tr><td style=\"text-align: right\">9</td><td style=\"text-align: left\">Kara</td><td style=\"text-align: left\">Nielsen</td><td style=\"text-align: right\">37.620000000000005</td></tr><tr><td style=\"text-align: right\">10</td><td style=\"text-align: left\">Eduardo</td><td style=\"text-align: left\">Martins</td><td style=\"text-align: right\">37.620000000000005</td></tr><tr><td style=\"text-align: right\">11</td><td style=\"text-align: left\">Alexandre</td><td style=\"text-align: left\">Rocha</td><td style=\"text-align: right\">37.620000000000005</td></tr><tr><td style=\"text-align: right\">12</td><td style=\"text-align: left\">Roberto</td><td style=\"text-align: left\">Almeida</td><td style=\"text-align: right\">37.62</td></tr><tr><td style=\"text-align: right\">13</td><td style=\"text-align: left\">Fernanda</td><td style=\"text-align: left\">Ramos</td><td style=\"text-align: right\">37.620000000000005</td></tr><tr><td style=\"text-align: right\">14</td><td style=\"text-align: left\">Mark</td><td style=\"text-align: left\">Philips</td><td style=\"text-align: right\">37.620000000000005</td></tr><tr><td style=\"text-align: right\">15</td><td style=\"text-align: left\">Jennifer</td><td style=\"text-align: left\">Peterson</td><td style=\"text-align: right\">38.620000000000005</td></tr><tr><td style=\"text-align: right\">16</td><td style=\"text-align: left\">Frank</td><td style=\"text-align: left\">Harris</td><td style=\"text-align: right\">37.62</td></tr><tr><td style=\"text-align: right\">17</td><td style=\"text-align: left\">Jack</td><td style=\"text-align: left\">Smith</td><td style=\"text-align: right\">39.620000000000005</td></tr><tr><td style=\"text-align: right\">18</td><td style=\"text-align: left\">Michelle</td><td style=\"text-align: left\">Brooks</td><td style=\"text-align: right\">37.620000000000005</td></tr><tr><td style=\"text-align: right\">19</td><td style=\"text-align: left\">Tim</td><td style=\"text-align: left\">Goyer</td><td style=\"text-align: right\">38.620000000000005</td></tr><tr><td style=\"text-align: right\">20</td><td style=\"text-align: left\">Dan</td><td style=\"text-align: left\">Miller</td><td style=\"text-align: right\">39.62</td></tr><tr><td style=\"text-align: right\">21</td><td style=\"text-align: left\">Kathy</td><td style=\"text-align: left\">Chase</td><td style=\"text-align: right\">37.62</td></tr><tr><td style=\"text-align: right\">22</td><td style=\"text-align: left\">Heather</td><td style=\"text-align: left\">Leacock</td><td style=\"text-align: right\">39.62</td></tr><tr><td style=\"text-align: right\">23</td><td style=\"text-align: left\">John</td><td style=\"text-align: left\">Gordon</td><td style=\"text-align: right\">37.62</td></tr><tr><td style=\"text-align: right\">24</td><td style=\"text-align: left\">Frank</td><td style=\"text-align: left\">Ralston</td><td style=\"text-align: right\">43.62</td></tr><tr><td style=\"text-align: right\">25</td><td style=\"text-align: left\">Victor</td><td style=\"text-align: left\">Stevens</td><td style=\"text-align: right\">42.62</td></tr><tr><td style=\"text-align: right\">26</td><td style=\"text-align: left\">Richard</td><td style=\"text-align: left\">Cunningham</td><td style=\"text-align: right\">47.620000000000005</td></tr><tr><td style=\"text-align: right\">27</td><td style=\"text-align: left\">Patrick</td><td style=\"text-align: left\">Gray</td><td style=\"text-align: right\">37.620000000000005</td></tr><tr><td style=\"text-align: right\">28</td><td style=\"text-align: left\">Julia</td><td style=\"text-align: left\">Barnett</td><td style=\"text-align: right\">43.620000000000005</td></tr><tr><td style=\"text-align: right\">29</td><td style=\"text-align: left\">Robert</td><td style=\"text-align: left\">Brown</td><td style=\"text-align: right\">37.62</td></tr><tr><td style=\"text-align: right\">30</td><td style=\"text-align: left\">Edward</td><td style=\"text-align: left\">Francis</td><td style=\"text-align: right\">37.620000000000005</td></tr><tr><td style=\"text-align: right\">31</td><td style=\"text-align: left\">Martha</td><td style=\"text-align: left\">Silk</td><td style=\"text-align: right\">37.620000000000005</td></tr><tr><td style=\"text-align: right\">32</td><td style=\"text-align: left\">Aaron</td><td style=\"text-align: left\">Mitchell</td><td style=\"text-align: right\">37.620000000000005</td></tr><tr><td style=\"text-align: right\">33</td><td style=\"text-align: left\">Ellie</td><td style=\"text-align: left\">Sullivan</td><td style=\"text-align: right\">37.62</td></tr><tr><td style=\"text-align: right\">34</td><td style=\"text-align: left\">João</td><td style=\"text-align: left\">Fernandes</td><td style=\"text-align: right\">39.620000000000005</td></tr><tr><td style=\"text-align: right\">35</td><td style=\"text-align: left\">Madalena</td><td style=\"text-align: left\">Sampaio</td><td style=\"text-align: right\">37.620000000000005</td></tr><tr><td style=\"text-align: right\">36</td><td style=\"text-align: left\">Hannah</td><td style=\"text-align: left\">Schneider</td><td style=\"text-align: right\">37.620000000000005</td></tr><tr><td style=\"text-align: right\">37</td><td style=\"text-align: left\">Fynn</td><td style=\"text-align: left\">Zimmermann</td><td style=\"text-align: right\">43.62</td></tr><tr><td style=\"text-align: right\">38</td><td style=\"text-align: left\">Niklas</td><td style=\"text-align: left\">Schröder</td><td style=\"text-align: right\">37.620000000000005</td></tr><tr><td style=\"text-align: right\">39</td><td style=\"text-align: left\">Camille</td><td style=\"text-align: left\">Bernard</td><td style=\"text-align: right\">38.620000000000005</td></tr><tr><td style=\"text-align: right\">40</td><td style=\"text-align: left\">Dominique</td><td style=\"text-align: left\">Lefebvre</td><td style=\"text-align: right\">38.620000000000005</td></tr><tr><td style=\"text-align: right\">41</td><td style=\"text-align: left\">Marc</td><td style=\"text-align: left\">Dubois</td><td style=\"text-align: right\">37.620000000000005</td></tr><tr><td style=\"text-align: right\">42</td><td style=\"text-align: left\">Wyatt</td><td style=\"text-align: left\">Girard</td><td style=\"text-align: right\">39.62</td></tr><tr><td style=\"text-align: right\">43</td><td style=\"text-align: left\">Isabelle</td><td style=\"text-align: left\">Mercier</td><td style=\"text-align: right\">40.620000000000005</td></tr><tr><td style=\"text-align: right\">44</td><td style=\"text-align: left\">Terhi</td><td style=\"text-align: left\">Hämäläinen</td><td style=\"text-align: right\">41.620000000000005</td></tr><tr><td style=\"text-align: right\">45</td><td style=\"text-align: left\">Ladislav</td><td style=\"text-align: left\">Kovács</td><td style=\"text-align: right\">45.62</td></tr><tr><td style=\"text-align: right\">46</td><td style=\"text-align: left\">Hugh</td><td style=\"text-align: left\">O&#x27;Reilly</td><td style=\"text-align: right\">45.62</td></tr><tr><td style=\"text-align: right\">47</td><td style=\"text-align: left\">Lucas</td><td style=\"text-align: left\">Mancini</td><td style=\"text-align: right\">37.620000000000005</td></tr><tr><td style=\"text-align: right\">48</td><td style=\"text-align: left\">Johannes</td><td style=\"text-align: left\">Van der Berg</td><td style=\"text-align: right\">40.62</td></tr><tr><td style=\"text-align: right\">49</td><td style=\"text-align: left\">Stanisław</td><td style=\"text-align: left\">Wójcik</td><td style=\"text-align: right\">37.620000000000005</td></tr><tr><td style=\"text-align: right\">50</td><td style=\"text-align: left\">Enrique</td><td style=\"text-align: left\">Muñoz</td><td style=\"text-align: right\">37.62</td></tr><tr><td style=\"text-align: right\">51</td><td style=\"text-align: left\">Joakim</td><td style=\"text-align: left\">Johansson</td><td style=\"text-align: right\">38.620000000000005</td></tr><tr><td style=\"text-align: right\">52</td><td style=\"text-align: left\">Emma</td><td style=\"text-align: left\">Jones</td><td style=\"text-align: right\">37.620000000000005</td></tr><tr><td style=\"text-align: right\">53</td><td style=\"text-align: left\">Phil</td><td style=\"text-align: left\">Hughes</td><td style=\"text-align: right\">37.620000000000005</td></tr><tr><td style=\"text-align: right\">54</td><td style=\"text-align: left\">Steve</td><td style=\"text-align: left\">Murray</td><td style=\"text-align: right\">37.62</td></tr><tr><td style=\"text-align: right\">55</td><td style=\"text-align: left\">Mark</td><td style=\"text-align: left\">Taylor</td><td style=\"text-align: right\">37.620000000000005</td></tr><tr><td style=\"text-align: right\">56</td><td style=\"text-align: left\">Diego</td><td style=\"text-align: left\">Gutiérrez</td><td style=\"text-align: right\">37.620000000000005</td></tr><tr><td style=\"text-align: right\">57</td><td style=\"text-align: left\">Luis</td><td style=\"text-align: left\">Rojas</td><td style=\"text-align: right\">46.62</td></tr><tr><td style=\"text-align: right\">58</td><td style=\"text-align: left\">Manoj</td><td style=\"text-align: left\">Pareek</td><td style=\"text-align: right\">38.620000000000005</td></tr><tr><td style=\"text-align: right\">59</td><td style=\"text-align: left\">Puja</td><td style=\"text-align: left\">Srivastava</td><td style=\"text-align: right\">36.64</td></tr></tbody></table>"
      ],
      "text/plain": [
       "<IPython.core.display.HTML object>"
      ]
     },
     "execution_count": 7,
     "metadata": {},
     "output_type": "execute_result"
    }
   ],
   "source": [
    "%%sql ANSWER CELL 3.6 (DO NOT REMOVE OR CHANGE THIS LINE)\n",
    "\n",
    "select c.CustomerId as CusotmerID,c.FirstName as FirstName,c.LastName as LastName, sum(i.Total) as \"Total Amount\" \n",
    "from Customer as c join Invoice as i on c.CustomerId = i.CustomerId\n",
    "group by i.CustomerId"
   ]
  },
  {
   "cell_type": "markdown",
   "id": "48492e1f",
   "metadata": {},
   "source": [
    "### Assignment 3.7 (2 points)"
   ]
  },
  {
   "cell_type": "markdown",
   "id": "8650a88d",
   "metadata": {},
   "source": [
    "Write an SQL query to select the ID and the name of playlists, together with their total duration in minutes.\n",
    "\n",
    "Do not include playlists shorter than 120 minutes.\n",
    "\n",
    "Sort the playlists by the duration in the descending order.\n",
    "\n",
    "Columns in the result set: playlist ID, name, duration."
   ]
  },
  {
   "cell_type": "code",
   "execution_count": 8,
   "id": "f1853caf",
   "metadata": {},
   "outputs": [
    {
     "data": {
      "text/html": [
       "<table><thead><tr><th style=\"text-align: left\">PlaylistId</th><th style=\"text-align: left\">name</th><th style=\"text-align: left\">duration</th></tr></thead><tbody><tr><td style=\"text-align: right\">1</td><td style=\"text-align: left\">Music</td><td style=\"text-align: right\">14628</td></tr><tr><td style=\"text-align: right\">8</td><td style=\"text-align: left\">Music</td><td style=\"text-align: right\">14628</td></tr><tr><td style=\"text-align: right\">3</td><td style=\"text-align: left\">TV Shows</td><td style=\"text-align: right\">8351</td></tr><tr><td style=\"text-align: right\">10</td><td style=\"text-align: left\">TV Shows</td><td style=\"text-align: right\">8351</td></tr><tr><td style=\"text-align: right\">5</td><td style=\"text-align: left\">90’s Music</td><td style=\"text-align: right\">6645</td></tr><tr><td style=\"text-align: right\">12</td><td style=\"text-align: left\">Classical</td><td style=\"text-align: right\">362</td></tr><tr><td style=\"text-align: right\">11</td><td style=\"text-align: left\">Brazilian Music</td><td style=\"text-align: right\">158</td></tr><tr><td style=\"text-align: right\">17</td><td style=\"text-align: left\">Heavy Metal Classic</td><td style=\"text-align: right\">136</td></tr><tr><td style=\"text-align: right\">14</td><td style=\"text-align: left\">Classical 101 - Next Steps</td><td style=\"text-align: right\">126</td></tr><tr><td style=\"text-align: right\">15</td><td style=\"text-align: left\">Classical 101 - The Basics</td><td style=\"text-align: right\">123</td></tr></tbody></table>"
      ],
      "text/plain": [
       "<IPython.core.display.HTML object>"
      ]
     },
     "execution_count": 8,
     "metadata": {},
     "output_type": "execute_result"
    }
   ],
   "source": [
    "%%sql ANSWER CELL 3.7 (DO NOT REMOVE OR CHANGE THIS LINE)\n",
    "\n",
    "Select * from (Select pl.PlaylistId, pl.name, sum(t.Milliseconds)/60000 as duration\n",
    "from Playlist as pl,PlaylistTrack as plt,Track as t\n",
    "where pl.PlaylistId=plt.PlaylistId and plt.TrackId = t.TrackId\n",
    "group by pl.PlaylistId) \n",
    "where duration>=120 \n",
    "order by duration desc"
   ]
  },
  {
   "cell_type": "markdown",
   "id": "63b9194b",
   "metadata": {},
   "source": [
    "### Assignment 3.8 (2 points)"
   ]
  },
  {
   "cell_type": "markdown",
   "id": "7fdfa68c",
   "metadata": {},
   "source": [
    "As you might have noticed in the result set of the previous task, some of the playlists do not have unique names. Write an SQL query to select the ID and the title of all playlists that do not have unique names.\n",
    "\n",
    "Columns to select: all columns in the playlist table."
   ]
  },
  {
   "cell_type": "code",
   "execution_count": 9,
   "id": "5cdcbbf1",
   "metadata": {},
   "outputs": [
    {
     "data": {
      "text/html": [
       "<table><thead><tr><th style=\"text-align: left\">PlaylistId</th><th style=\"text-align: left\">name</th><th style=\"text-align: left\">duration</th></tr></thead><tbody><tr><td style=\"text-align: right\">1</td><td style=\"text-align: left\">Music</td><td style=\"text-align: right\">14628</td></tr><tr><td style=\"text-align: right\">8</td><td style=\"text-align: left\">Music</td><td style=\"text-align: right\">14628</td></tr><tr><td style=\"text-align: right\">3</td><td style=\"text-align: left\">TV Shows</td><td style=\"text-align: right\">8351</td></tr><tr><td style=\"text-align: right\">10</td><td style=\"text-align: left\">TV Shows</td><td style=\"text-align: right\">8351</td></tr><tr><td style=\"text-align: right\">5</td><td style=\"text-align: left\">90’s Music</td><td style=\"text-align: right\">6645</td></tr><tr><td style=\"text-align: right\">12</td><td style=\"text-align: left\">Classical</td><td style=\"text-align: right\">362</td></tr><tr><td style=\"text-align: right\">11</td><td style=\"text-align: left\">Brazilian Music</td><td style=\"text-align: right\">158</td></tr><tr><td style=\"text-align: right\">17</td><td style=\"text-align: left\">Heavy Metal Classic</td><td style=\"text-align: right\">136</td></tr><tr><td style=\"text-align: right\">14</td><td style=\"text-align: left\">Classical 101 - Next Steps</td><td style=\"text-align: right\">126</td></tr><tr><td style=\"text-align: right\">15</td><td style=\"text-align: left\">Classical 101 - The Basics</td><td style=\"text-align: right\">123</td></tr></tbody></table>"
      ],
      "text/plain": [
       "<IPython.core.display.HTML object>"
      ]
     },
     "execution_count": 9,
     "metadata": {},
     "output_type": "execute_result"
    }
   ],
   "source": [
    "%%sql ANSWER CELL 3.8 (DO NOT REMOVE OR CHANGE THIS LINE)\n",
    "\n",
    "Select * from (Select pl.PlaylistId, pl.name, sum(t.Milliseconds)/60000 as duration\n",
    "from Playlist as pl,PlaylistTrack as plt,Track as t\n",
    "where pl.PlaylistId=plt.PlaylistId and plt.TrackId = t.TrackId\n",
    "group by pl.PlaylistId) \n",
    "where duration>=120 \n",
    "order by duration desc"
   ]
  },
  {
   "cell_type": "markdown",
   "id": "902030e9",
   "metadata": {},
   "source": [
    "### Assignment 3.9 (2 points)"
   ]
  },
  {
   "cell_type": "markdown",
   "id": "fb1d69ad",
   "metadata": {},
   "source": [
    "Write an SQL query to return the name of a city (or cities if there are several of them) where most of the employees live, together with the number of employees living there.\n",
    "\n",
    "Columns in the result set: city, the number of employees living there."
   ]
  },
  {
   "cell_type": "code",
   "execution_count": 10,
   "id": "6dca4328",
   "metadata": {
    "scrolled": true
   },
   "outputs": [
    {
     "data": {
      "text/html": [
       "<table><thead><tr><th style=\"text-align: left\">City</th><th style=\"text-align: left\">Employees_Living</th></tr></thead><tbody><tr><td style=\"text-align: left\">Calgary</td><td style=\"text-align: right\">5</td></tr></tbody></table>"
      ],
      "text/plain": [
       "<IPython.core.display.HTML object>"
      ]
     },
     "execution_count": 10,
     "metadata": {},
     "output_type": "execute_result"
    }
   ],
   "source": [
    "%%sql ANSWER CELL 3.9 (DO NOT REMOVE OR CHANGE THIS LINE)\n",
    "select city, count(*) as Employees_Living\n",
    "from employee \n",
    "group by city\n",
    "having Employees_Living=\n",
    "(select max(c) from(select count(*) as c from employee group by city))\n"
   ]
  },
  {
   "cell_type": "markdown",
   "id": "06a5c703",
   "metadata": {},
   "source": [
    "### Assignment 3.10 (2 points)"
   ]
  },
  {
   "cell_type": "markdown",
   "id": "727f7af9",
   "metadata": {},
   "source": [
    "a) Write an INSERT statement that fails due to the referential integrity.  \n",
    "b) Using your example, explain what referential integrity means and why the statement failed."
   ]
  },
  {
   "cell_type": "code",
   "execution_count": 11,
   "id": "f01e6904",
   "metadata": {
    "scrolled": true
   },
   "outputs": [
    {
     "name": "stdout",
     "output_type": "stream",
     "text": [
      "\u001b[31mError: FOREIGN KEY constraint failed\u001b[0m\n"
     ]
    }
   ],
   "source": [
    "%%sql ANSWER CELL 3.10a (DO NOT REMOVE OR CHANGE THIS LINE)\n",
    "\n",
    "\n",
    "insert into PlaylistTrack (PlaylistId,TrackId) values(40,4000)"
   ]
  },
  {
   "cell_type": "raw",
   "id": "e0f1cc08",
   "metadata": {},
   "source": [
    "-- ANSWER CELL 3.10b (DO NOT REMOVE OR CHANGE THIS LINE)\n",
    "\n",
    "Add your explanation below:\n",
    "\n",
    "Referential integrity indicates the connection of two tables in a database, making sure that when a foreign key is used, it should refer to the primary key inside the database\n",
    "\n",
    "The above INSERT query fails as its not violating the primary key constraints of the data base. "
   ]
  },
  {
   "cell_type": "markdown",
   "id": "0ec1bcf2",
   "metadata": {},
   "source": [
    "## Appendix A. Database schema\n",
    "\n",
    "Note: `NVARCHAR`, `INTEGER` and `NUMERIC` are synonymous with `VARCHAR`, `INT` and `DECIMAL`.\n",
    "\n",
    "```sql\n",
    "CREATE TABLE Album\n",
    "(\n",
    "   AlbumId INTEGER NOT NULL,\n",
    "   Title NVARCHAR(160) NOT NULL,\n",
    "   ArtistId INTEGER NOT NULL,\n",
    "   PRIMARY KEY (AlbumId),\n",
    "   FOREIGN KEY (ArtistId) REFERENCES Artist (ArtistId)\n",
    ");\n",
    "CREATE TABLE Artist\n",
    "(\n",
    "   ArtistId INTEGER NOT NULL,\n",
    "   Name NVARCHAR(120),\n",
    "   PRIMARY KEY (ArtistId)\n",
    ");\n",
    "CREATE TABLE Customer\n",
    "(\n",
    "   CustomerId INTEGER NOT NULL,\n",
    "   FirstName NVARCHAR(40) NOT NULL,\n",
    "   LastName NVARCHAR(20) NOT NULL,\n",
    "   Company NVARCHAR(80),\n",
    "   Address NVARCHAR(70),\n",
    "   City NVARCHAR(40),\n",
    "   State NVARCHAR(40),\n",
    "   Country NVARCHAR(40),\n",
    "   PostalCode NVARCHAR(10),\n",
    "   Phone NVARCHAR(24),\n",
    "   Fax NVARCHAR(24),\n",
    "   Email NVARCHAR(60) NOT NULL,\n",
    "   SupportRepId INTEGER,\n",
    "   PRIMARY KEY (CustomerId),\n",
    "   FOREIGN KEY (SupportRepId) REFERENCES Employee (EmployeeId)\n",
    ");\n",
    "CREATE TABLE Employee\n",
    "(\n",
    "   EmployeeId INTEGER NOT NULL,\n",
    "   LastName NVARCHAR(20) NOT NULL,\n",
    "   FirstName NVARCHAR(20) NOT NULL,\n",
    "   Title NVARCHAR(30),\n",
    "   ReportsTo INTEGER,\n",
    "   BirthDate DATETIME,\n",
    "   HireDate DATETIME,\n",
    "   Address NVARCHAR(70),\n",
    "   City NVARCHAR(40),\n",
    "   State NVARCHAR(40),\n",
    "   Country NVARCHAR(40),\n",
    "   PostalCode NVARCHAR(10),\n",
    "   Phone NVARCHAR(24),\n",
    "   Fax NVARCHAR(24),\n",
    "   Email NVARCHAR(60),\n",
    "   PRIMARY KEY (EmployeeId),\n",
    "   FOREIGN KEY (ReportsTo) REFERENCES Employee (EmployeeId)\n",
    ");\n",
    "CREATE TABLE Genre\n",
    "(\n",
    "   GenreId INTEGER NOT NULL,\n",
    "   Name NVARCHAR(120),\n",
    "   PRIMARY KEY (GenreId)\n",
    ");\n",
    "5\n",
    "CREATE TABLE Invoice\n",
    "(\n",
    "   InvoiceId INTEGER NOT NULL,\n",
    "   CustomerId INTEGER NOT NULL,\n",
    "   InvoiceDate DATETIME NOT NULL,\n",
    "   BillingAddress NVARCHAR(70),\n",
    "   BillingCity NVARCHAR(40),\n",
    "   BillingState NVARCHAR(40),\n",
    "   BillingCountry NVARCHAR(40),\n",
    "   BillingPostalCode NVARCHAR(10),\n",
    "   Total NUMERIC(10,2) NOT NULL,\n",
    "   PRIMARY KEY (InvoiceId),\n",
    "   FOREIGN KEY (CustomerId) REFERENCES Customer (CustomerId)\n",
    ");\n",
    "CREATE TABLE InvoiceLine\n",
    "(\n",
    "   InvoiceLineId INTEGER NOT NULL,\n",
    "   InvoiceId INTEGER NOT NULL,\n",
    "   TrackId INTEGER NOT NULL,\n",
    "   UnitPrice NUMERIC(10,2) NOT NULL,\n",
    "   Quantity INTEGER NOT NULL,\n",
    "   PRIMARY KEY (InvoiceLineId),\n",
    "   FOREIGN KEY (InvoiceId) REFERENCES Invoice (InvoiceId),\n",
    "   FOREIGN KEY (TrackId) REFERENCES Track (TrackId)\n",
    ");\n",
    "CREATE TABLE MediaType\n",
    "(\n",
    "   MediaTypeId INTEGER NOT NULL,\n",
    "   Name NVARCHAR(120),\n",
    "   PRIMARY KEY (MediaTypeId)\n",
    ");\n",
    "CREATE TABLE Playlist\n",
    "(\n",
    "   PlaylistId INTEGER NOT NULL,\n",
    "   Name NVARCHAR(120),\n",
    "   PRIMARY KEY (PlaylistId)\n",
    ");\n",
    "CREATE TABLE PlaylistTrack\n",
    "(\n",
    "   PlaylistId INTEGER NOT NULL,\n",
    "   TrackId INTEGER NOT NULL,\n",
    "   PRIMARY KEY (PlaylistId, TrackId),\n",
    "   FOREIGN KEY (PlaylistId) REFERENCES Playlist (PlaylistId),\n",
    "   FOREIGN KEY (TrackId) REFERENCES Track (TrackId)\n",
    ");\n",
    "CREATE TABLE Track\n",
    "(\n",
    "   TrackId INTEGER NOT NULL,\n",
    "   Name NVARCHAR(200) NOT NULL,\n",
    "   AlbumId INTEGER,\n",
    "   MediaTypeId INTEGER NOT NULL,\n",
    "   GenreId INTEGER,\n",
    "   Composer NVARCHAR(220),\n",
    "   Milliseconds INTEGER NOT NULL,\n",
    "   Bytes INTEGER,\n",
    "   UnitPrice NUMERIC(10,2) NOT NULL,\n",
    "   PRIMARY KEY (TrackId),\n",
    "   FOREIGN KEY (AlbumId) REFERENCES Album (AlbumId),\n",
    "   FOREIGN KEY (GenreId) REFERENCES Genre (GenreId),\n",
    "   FOREIGN KEY (MediaTypeId) REFERENCES MediaType (MediaTypeId)\n",
    ");\n",
    "```"
   ]
  }
 ],
 "metadata": {
  "kernelspec": {
   "display_name": "base",
   "language": "python",
   "name": "python3"
  },
  "language_info": {
   "codemirror_mode": {
    "name": "ipython",
    "version": 3
   },
   "file_extension": ".py",
   "mimetype": "text/x-python",
   "name": "python",
   "nbconvert_exporter": "python",
   "pygments_lexer": "ipython3",
   "version": "3.9.12"
  },
  "vscode": {
   "interpreter": {
    "hash": "40d3a090f54c6569ab1632332b64b2c03c39dcf918b08424e98f38b5ae0af88f"
   }
  }
 },
 "nbformat": 4,
 "nbformat_minor": 5
}
