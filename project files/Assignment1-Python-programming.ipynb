{
 "cells": [
  {
   "attachments": {},
   "cell_type": "markdown",
   "id": "9e43f7b0",
   "metadata": {},
   "source": [
    "## Assignment 1. Python programming"
   ]
  },
  {
   "cell_type": "code",
   "execution_count": 1,
   "id": "fc1a6069",
   "metadata": {},
   "outputs": [
    {
     "name": "stdout",
     "output_type": "stream",
     "text": [
      "https://github.com/nsprudhvi/python-programming\n"
     ]
    }
   ],
   "source": [
    "print(\"https://github.com/nsprudhvi/python-programming\")"
   ]
  },
  {
   "cell_type": "code",
   "execution_count": 2,
   "id": "399b844a",
   "metadata": {},
   "outputs": [],
   "source": [
    "import numpy as np\n",
    "import pandas as pd\n",
    "import matplotlib.pyplot as plt\n",
    "import seaborn as sns\n",
    "\n",
    "pd.set_option(\"display.max_columns\", None)  # Do not hide any columns in data frames\n",
    "plt.rcParams[\"figure.figsize\"] = (15, 5)    # Default width and height for figures\n",
    "sns.set_theme(style=\"darkgrid\")\n",
    "\n",
    "%matplotlib inline"
   ]
  },
  {
   "cell_type": "markdown",
   "id": "c0fcd7ca",
   "metadata": {},
   "source": [
    "### Assignment 1.1 (2 points)\n",
    "\n",
    "Write a program to print all 4-digit numbers that:\n",
    "\n",
    "- are divisible by 7, and\n",
    "- their digits form a strictly increasing sequence.\n",
    "\n",
    "Print each number on a separate line.\n",
    "\n",
    "For example, 1239 is one of these numbers, as it is divisible by 7 (1239 = 177 * 7) and 1 < 2 < 3 < 9, but not 1234 nor 1253, as the former is not divisible by 7 and the latter's digits (1, 2, 5, 3) do not form a strictly increasing sequence (3 is not greater than 5).\n",
    "\n",
    "(There are 18 such numbers.)"
   ]
  },
  {
   "cell_type": "code",
   "execution_count": 3,
   "id": "6ab27b7a",
   "metadata": {},
   "outputs": [
    {
     "name": "stdout",
     "output_type": "stream",
     "text": [
      "1239\n",
      "1246\n",
      "1267\n",
      "1358\n",
      "1379\n",
      "1456\n",
      "1568\n",
      "1589\n",
      "2345\n",
      "2359\n",
      "2457\n",
      "2478\n",
      "2569\n",
      "3458\n",
      "3479\n",
      "3689\n",
      "4578\n",
      "5789\n"
     ]
    }
   ],
   "source": [
    "# ANSWER CELL 1.1 (DO NOT REMOVE OR CHANGE THIS LINE)\n",
    "\n",
    "list1=[]\n",
    "for num in range(1000, 9999):\n",
    "    if (num%7==0):\n",
    "        list1.append(str(num))\n",
    "        \n",
    "for y in list1:\n",
    "    dig=str(y)\n",
    "    c=0\n",
    "    for i in range(0,3):\n",
    "        if(int(dig[i]))<(int(dig[i+1])):\n",
    "            c+=1\n",
    "    if(c==3):\n",
    "        print(y)"
   ]
  },
  {
   "cell_type": "markdown",
   "id": "d4b8f098",
   "metadata": {},
   "source": [
    "### Assignment 1.2 (2 points)\n",
    "\n",
    "Write a function `max_words` that accepts a list of strings representing lines in a text file, and returns the maximum number of words on a single line. If the list is empty, the function must return 0. Use the string method `split` (without specifying the separator) to split a line into a list of words.\n",
    "\n",
    "#### Sample arguments and return values\n",
    "\n",
    "```\n",
    "Argument: [\"A B, C!\", \"\", \"  'A B!', C D E. \"]\n",
    "Returns: 5\n",
    "```\n",
    "```\n",
    "Argument: Lines of the file \"shakespeare_sonnets.txt\" (as a list of string)\n",
    "Returns: 10\n",
    "```\n",
    "```\n",
    "Argument: []\n",
    "Returns: 0\n",
    "```"
   ]
  },
  {
   "cell_type": "code",
   "execution_count": 4,
   "id": "c3998c1c",
   "metadata": {},
   "outputs": [
    {
     "name": "stdout",
     "output_type": "stream",
     "text": [
      "Test 1 passed: True\n",
      "Test 2 passed: True\n",
      "Test 3 passed: True\n"
     ]
    }
   ],
   "source": [
    "# ANSWER CELL 1.2 (DO NOT REMOVE OR CHANGE THIS LINE)\n",
    "\n",
    "def max_words(lines):\n",
    "    x=0\n",
    "    for l in lines:\n",
    "        word_split = l.split()\n",
    "        if len(word_split)>x:\n",
    "            x=len(word_split)\n",
    "    return(x)\n",
    "    \n",
    "\n",
    "\n",
    "print(\"Test 1 passed:\", max_words([\"A B, C!\", \"\", \"  'A B!', C D E. \"]) == 5)\n",
    "print(\"Test 2 passed:\", max_words(list(open(\"shakespeare_sonnets.txt\").readlines())) == 10)\n",
    "print(\"Test 3 passed:\", max_words([]) == 0)"
   ]
  },
  {
   "cell_type": "markdown",
   "id": "bbf81c89",
   "metadata": {},
   "source": [
    "### Assignment 1.3 (2 points + possibility for 1 bonus point)\n",
    "\n",
    "Write a function `intersection` that accepts two lists and returns their *intersection*, that is, a list of all unique elements of the first list that are also present in the second list. The order of elements in the returned list is not important. You are **not** allowed to use sets and set operations in your implementation.\n",
    "\n",
    "#### Sample arguments and return values\n",
    "\n",
    "```\n",
    "Arguments: [2, 1, 5, 3, 4] and [7, 6, 5, 4, 3]\n",
    "Returns: [3, 4, 5] (in any order)\n",
    "```\n",
    "```\n",
    "Arguments: [8, 1, 2, 3, 3, 3] and [2, 2, 3, 3, 4, 4]\n",
    "Returns: [2, 3] (in any order)\n",
    "```\n",
    "\n",
    "#### Bonus point challenge (optional)\n",
    "\n",
    "In addition to the function described above, write a function `intersection_dict` that accepts two lists and returns their intersection as a dictionary. The keys of this dictionary are the elements that are present in both lists (you can assume that the elements are immutable and can be used as keys), and the value for each key is the minimum of the occurrence counts of the key in both lists.\n",
    "\n",
    "#### Sample arguments and return values\n",
    "\n",
    "```\n",
    "Arguments: [8, 1, 2, 3, 3, 3] and [2, 2, 3, 3, 4, 4]\n",
    "Returns: {2: 1, 3: 2}\n",
    "```"
   ]
  },
  {
   "cell_type": "code",
   "execution_count": 5,
   "id": "9b5b5661",
   "metadata": {},
   "outputs": [
    {
     "name": "stdout",
     "output_type": "stream",
     "text": [
      "Test 1 passed: True\n",
      "Test 2 passed: True\n",
      "\n",
      " Bonus point challenge:\n",
      "Test 1 passed: True\n",
      "Test 2 passed: True\n",
      "Test 1 passed: True\n",
      "Test 2 passed: True\n"
     ]
    }
   ],
   "source": [
    "# ANSWER CELL 1.3 (DO NOT REMOVE OR CHANGE THIS LINE)\n",
    "\n",
    "\n",
    "def intersection(a, b):\n",
    "    c=[num for num in a if num in b] \n",
    "    d=[]\n",
    "    for i in c:\n",
    "        if i not in d:\n",
    "            d.append(i)\n",
    "    return(d)\n",
    "\n",
    "print(\"Test 1 passed:\", sorted(intersection([2, 1, 5, 3, 4], [7, 6, 5, 4, 3])) == [3, 4, 5])\n",
    "print(\"Test 2 passed:\", sorted(intersection([8, 1, 2, 3, 3, 3], [2, 2, 3, 3, 4, 4])) == [2, 3])\n",
    "\n",
    "#BONUS_POINT\n",
    "def IntersectionB(a, b):\n",
    "    c=[num for num in a if num in b]\n",
    "    VarD={}\n",
    "    for i in c:\n",
    "        x=0\n",
    "        y=0\n",
    "        for j in a:\n",
    "            if i==j:\n",
    "                x+=1\n",
    "        for k in b:\n",
    "            if i==k:\n",
    "                y+=1\n",
    "        if(x<y):\n",
    "            VarD[i]=x\n",
    "        else :\n",
    "            VarD[i]=y\n",
    "    return(VarD)\n",
    "    \n",
    "print(\"\\n Bonus point challenge:\")\n",
    "print(\"Test 1 passed:\", IntersectionB([2, 1, 5, 3, 4], [7, 6, 5, 4, 3]) == {3: 1, 4: 1, 5: 1})\n",
    "print(\"Test 2 passed:\", IntersectionB([8, 1, 2, 3, 3, 3], [2, 2, 3, 3, 4, 4]) == {2: 1, 3: 2})\n",
    "\n",
    "\n",
    "print(\"Test 1 passed:\", sorted(intersection([2, 1, 5, 3, 4], [7, 6, 5, 4, 3])) == [3, 4, 5])\n",
    "print(\"Test 2 passed:\", sorted(intersection([8, 1, 2, 3, 3, 3], [2, 2, 3, 3, 4, 4])) == [2, 3])"
   ]
  },
  {
   "cell_type": "markdown",
   "id": "c01f16cf",
   "metadata": {},
   "source": [
    "### Assignment 1.4 (2 points)\n",
    "\n",
    "Let \n",
    "\n",
    "$$ X_1 \\sim N(\\mu_1, \\sigma^2_1) $$\n",
    "\n",
    "denote a normal random variable with mean $\\mu_1$ and variance $\\sigma_1^2$, and \n",
    "\n",
    "$$ X_2 \\sim N(\\mu_2, \\sigma^2_2) $$\n",
    "\n",
    "another and independent normal random variable with mean $\\mu_2$ and variance $\\sigma_2^2$.\n",
    "\n",
    "You probably know that their sum, $X = X_1 + X_2$, is also normally distributed with mean $\\mu = \\mu_1 + \\mu_2$ and variance $\\sigma^2 = \\sigma^2_1 + \\sigma^2_2$, i.e.\n",
    "\n",
    "$$ X = X_1 + X_2 \\sim N(\\mu_1 + \\mu_2, \\sigma^2_1 + \\sigma^2_2). $$\n",
    "\n",
    "Write a Python program to do the following experiment:\n",
    "\n",
    "- Draw 1 000 000 samples of $X_1$ from a normal distribution with mean $\\mu_1 = 1$ and standard deviation $\\sigma_1 = 3$. (Tip: you can use `np.random.normal` and specify the mean, standard deviation and the number of samples you want to draw as arguments.)\n",
    "- Draw 1 000 000 samples of $X_2$ from a normal distribution with mean $\\mu_2 = 2$ and standard deviation $\\sigma_2 = 4$.\n",
    "- Calculate $X = X_1 + X_2$ and\n",
    "  - **print out the mean, standard deviation and variance**,\n",
    "  - **plot the histogram** of the values of $X$ (tip: you can use `sns.histplot`).\n",
    "\n",
    "Feel free to import and use any package(s) you find useful."
   ]
  },
  {
   "cell_type": "code",
   "execution_count": 6,
   "id": "12190f26",
   "metadata": {},
   "outputs": [
    {
     "name": "stdout",
     "output_type": "stream",
     "text": [
      "[-6.47201355  3.02381511  2.43914443 ...  5.25373188 -3.15292081\n",
      "  6.85421512]\n",
      "2.997378703737665\n",
      "5.003184998766022\n",
      "25.031860131877355\n"
     ]
    },
    {
     "data": {
      "text/plain": [
       "<AxesSubplot:xlabel='Values of X', ylabel='Count'>"
      ]
     },
     "execution_count": 6,
     "metadata": {},
     "output_type": "execute_result"
    },
    {
     "data": {
      "image/png": "[encoded data removed]",
      "text/plain": [
       "<Figure size 432x288 with 1 Axes>"
      ]
     },
     "metadata": {
      "needs_background": "light"
     },
     "output_type": "display_data"
    }
   ],
   "source": [
    "# ANSWER CELL 1.4 (DO NOT REMOVE OR CHANGE THIS LINE)\n",
    "\n",
    "x1=np.random.normal(size = 1000000, loc = 1, scale = 3)\n",
    "x2=np.random.normal(size = 1000000, loc = 2, scale = 4)\n",
    "x=np.add(x1,x2)\n",
    "print(x)\n",
    "mean=np.mean(x)\n",
    "strd=np.std(x)\n",
    "var=np.var(x)\n",
    "print(mean)\n",
    "print(strd)\n",
    "print(var)\n",
    "\n",
    "num_var = pd.Series(x, name = \"Values of X\")\n",
    " \n",
    "# Plot histogram\n",
    "sns.histplot(data = num_var, stat=\"count\", discrete=True,kde = True)"
   ]
  }
 ],
 "metadata": {
  "kernelspec": {
   "display_name": "Python 3",
   "language": "python",
   "name": "python3"
  },
  "language_info": {
   "codemirror_mode": {
    "name": "ipython",
    "version": 3
   },
   "file_extension": ".py",
   "mimetype": "text/x-python",
   "name": "python",
   "nbconvert_exporter": "python",
   "pygments_lexer": "ipython3",
   "version": "3.9.7"
  },
  "vscode": {
   "interpreter": {
    "hash": "72377615ca27531a134b09d1d7953b2c2568b76e17a1e52a81a1ee4c46de60dd"
   }
  }
 },
 "nbformat": 4,
 "nbformat_minor": 5
}
